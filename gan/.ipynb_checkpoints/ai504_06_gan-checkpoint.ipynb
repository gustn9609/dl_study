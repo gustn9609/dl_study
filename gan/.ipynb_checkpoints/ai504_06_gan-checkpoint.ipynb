{
 "cells": [
  {
   "cell_type": "markdown",
   "metadata": {
    "id": "T4PQHO9JG0tJ"
   },
   "source": [
    "![picture](https://drive.google.com/uc?id=1vC0N3Obk4HZJk9JOG7fKgYE10YYlCqsg)"
   ]
  },
  {
   "cell_type": "markdown",
   "metadata": {
    "id": "YrYsvEDJG0tK"
   },
   "source": [
    "# Week 6: Generative adversarial network (GAN) "
   ]
  },
  {
   "cell_type": "markdown",
   "metadata": {
    "id": "K5vytfiiG0tL"
   },
   "source": [
    "- We will cover basic concepts of GAN & implement vanilla GAN \\[[Goodfellow et al., NIPS 2014](https://papers.nips.cc/paper/5423-generative-adversarial-nets.pdf)\\]\n",
    "- We will give basic skeletone code which include (1) training structure (2) sample visualization (3) FID evaluation\n",
    "- You should implement (1) ***generator & discriminator architecture*** (2) ***noise sampling***  (3) ***GAN loss*** \n",
    "- Additionally, will give you [DCGAN](https://arxiv.org/abs/1511.06434) (basic GAN architecture) code that you can enjoy by your-self \n",
    "\n",
    "If you have any questions, feel free to ask\n",
    "- For additional questions, send emails to jihoontack@kaist.ac.kr"
   ]
  },
  {
   "cell_type": "markdown",
   "metadata": {
    "id": "R4a62RTvG0tM"
   },
   "source": [
    "## 0. Preliminary"
   ]
  },
  {
   "cell_type": "markdown",
   "metadata": {
    "id": "AfUTs5VtG0tM"
   },
   "source": [
    "### 0.1. Prelim step 1: Load packages & GPU setup"
   ]
  },
  {
   "cell_type": "code",
   "execution_count": null,
   "metadata": {
    "colab": {
     "base_uri": "https://localhost:8080/"
    },
    "executionInfo": {
     "elapsed": 15,
     "status": "ok",
     "timestamp": 1644384739613,
     "user": {
      "displayName": "김현수",
      "photoUrl": "https://lh3.googleusercontent.com/a/default-user=s64",
      "userId": "15495247894029535649"
     },
     "user_tz": -540
    },
    "id": "WY31sfvGG0tM",
    "outputId": "ee3c5fc8-0edd-4afd-96e6-0849cb5a3a9a"
   },
   "outputs": [
    {
     "name": "stdout",
     "output_type": "stream",
     "text": [
      "Wed Feb  9 05:32:19 2022       \n",
      "+-----------------------------------------------------------------------------+\n",
      "| NVIDIA-SMI 460.32.03    Driver Version: 460.32.03    CUDA Version: 11.2     |\n",
      "|-------------------------------+----------------------+----------------------+\n",
      "| GPU  Name        Persistence-M| Bus-Id        Disp.A | Volatile Uncorr. ECC |\n",
      "| Fan  Temp  Perf  Pwr:Usage/Cap|         Memory-Usage | GPU-Util  Compute M. |\n",
      "|                               |                      |               MIG M. |\n",
      "|===============================+======================+======================|\n",
      "|   0  Tesla T4            Off  | 00000000:00:04.0 Off |                    0 |\n",
      "| N/A   32C    P8     9W /  70W |      0MiB / 15109MiB |      0%      Default |\n",
      "|                               |                      |                  N/A |\n",
      "+-------------------------------+----------------------+----------------------+\n",
      "                                                                               \n",
      "+-----------------------------------------------------------------------------+\n",
      "| Processes:                                                                  |\n",
      "|  GPU   GI   CI        PID   Type   Process name                  GPU Memory |\n",
      "|        ID   ID                                                   Usage      |\n",
      "|=============================================================================|\n",
      "|  No running processes found                                                 |\n",
      "+-----------------------------------------------------------------------------+\n"
     ]
    }
   ],
   "source": [
    "# visualize current GPU usages in your server\n",
    "!nvidia-smi "
   ]
  },
  {
   "cell_type": "code",
   "execution_count": 1,
   "metadata": {
    "executionInfo": {
     "elapsed": 7,
     "status": "ok",
     "timestamp": 1644406376480,
     "user": {
      "displayName": "김현수",
      "photoUrl": "https://lh3.googleusercontent.com/a/default-user=s64",
      "userId": "15495247894029535649"
     },
     "user_tz": -540
    },
    "id": "bGTh4k6wG0tN"
   },
   "outputs": [],
   "source": [
    "# set gpu by number \n",
    "import os\n",
    "import random\n",
    "os.environ['CUDA_VISIBLE_DEVICES'] = '0'  # setting gpu number"
   ]
  },
  {
   "cell_type": "code",
   "execution_count": 2,
   "metadata": {
    "executionInfo": {
     "elapsed": 5357,
     "status": "ok",
     "timestamp": 1644406381832,
     "user": {
      "displayName": "김현수",
      "photoUrl": "https://lh3.googleusercontent.com/a/default-user=s64",
      "userId": "15495247894029535649"
     },
     "user_tz": -540
    },
    "id": "xvm0MFruG0tO"
   },
   "outputs": [],
   "source": [
    "# load packages\n",
    "import numpy as np\n",
    "import matplotlib.pyplot as plt\n",
    "import matplotlib.animation as animation\n",
    "import imageio #### install with \"pip install imageio\"\n",
    "from IPython.display import HTML\n",
    "\n",
    "import torch\n",
    "import torch.nn as nn\n",
    "import torch.nn.parallel\n",
    "import torch.backends.cudnn as cudnn\n",
    "import torch.optim as optim\n",
    "import torch.utils.data\n",
    "import torchvision.datasets as dset\n",
    "import torchvision.transforms as transforms\n",
    "import torchvision.utils as vutils\n",
    "from torchvision.utils import make_grid"
   ]
  },
  {
   "cell_type": "code",
   "execution_count": 3,
   "metadata": {
    "executionInfo": {
     "elapsed": 8,
     "status": "ok",
     "timestamp": 1644406381833,
     "user": {
      "displayName": "김현수",
      "photoUrl": "https://lh3.googleusercontent.com/a/default-user=s64",
      "userId": "15495247894029535649"
     },
     "user_tz": -540
    },
    "id": "8GyvPxg5G0tO"
   },
   "outputs": [],
   "source": [
    "# Create folders\n",
    "if not os.path.exists('./checkpoint'):\n",
    "    os.mkdir('./checkpoint')\n",
    "    \n",
    "if not os.path.exists('./dataset'):\n",
    "    os.mkdir('./dataset')\n",
    "    \n",
    "if not os.path.exists('./img'):\n",
    "    os.mkdir('./img')\n",
    "    \n",
    "if not os.path.exists('./img/real'):\n",
    "    os.mkdir('./img/real')\n",
    "\n",
    "if not os.path.exists('./img/fake'):\n",
    "    os.mkdir('./img/fake')\n",
    "    "
   ]
  },
  {
   "cell_type": "markdown",
   "metadata": {
    "id": "FZwOQxt3G0tP"
   },
   "source": [
    "### 0.2. Prelim step 2: Define visualization & image saving code"
   ]
  },
  {
   "cell_type": "code",
   "execution_count": 4,
   "metadata": {
    "executionInfo": {
     "elapsed": 7,
     "status": "ok",
     "timestamp": 1644406381833,
     "user": {
      "displayName": "김현수",
      "photoUrl": "https://lh3.googleusercontent.com/a/default-user=s64",
      "userId": "15495247894029535649"
     },
     "user_tz": -540
    },
    "id": "YwGGv2mIG0tP"
   },
   "outputs": [],
   "source": [
    "# visualize the first image from the torch tensor\n",
    "def vis_image(image):\n",
    "    plt.imshow(image[0].detach().cpu().numpy(),cmap='gray')\n",
    "    plt.show()"
   ]
  },
  {
   "cell_type": "code",
   "execution_count": 5,
   "metadata": {
    "executionInfo": {
     "elapsed": 7,
     "status": "ok",
     "timestamp": 1644406381833,
     "user": {
      "displayName": "김현수",
      "photoUrl": "https://lh3.googleusercontent.com/a/default-user=s64",
      "userId": "15495247894029535649"
     },
     "user_tz": -540
    },
    "id": "f-otlZ0OG0tQ"
   },
   "outputs": [],
   "source": [
    "def save_gif(training_progress_images, images):\n",
    "    '''\n",
    "        training_progress_images: list of training images generated each iteration\n",
    "        images: image that is generated in this iteration\n",
    "    '''\n",
    "    img_grid = make_grid(images.data)\n",
    "    img_grid = np.transpose(img_grid.detach().cpu().numpy(), (1, 2, 0))\n",
    "    img_grid = 255. * img_grid \n",
    "    img_grid = img_grid.astype(np.uint8)\n",
    "    training_progress_images.append(img_grid)\n",
    "    imageio.mimsave('./img/training_progress.gif', training_progress_images)\n",
    "    return training_progress_images"
   ]
  },
  {
   "cell_type": "code",
   "execution_count": 6,
   "metadata": {
    "executionInfo": {
     "elapsed": 7,
     "status": "ok",
     "timestamp": 1644406381834,
     "user": {
      "displayName": "김현수",
      "photoUrl": "https://lh3.googleusercontent.com/a/default-user=s64",
      "userId": "15495247894029535649"
     },
     "user_tz": -540
    },
    "id": "uKQNRUf2G0tQ"
   },
   "outputs": [],
   "source": [
    "# visualize gif file\n",
    "def vis_gif(training_progress_images):\n",
    "    fig = plt.figure()\n",
    "    \n",
    "    ims = []\n",
    "    for i in range(len(training_progress_images)):\n",
    "        im = plt.imshow(training_progress_images[i], animated=True)\n",
    "        ims.append([im])\n",
    "\n",
    "    ani = animation.ArtistAnimation(fig, ims, interval=50, blit=True, repeat_delay=1000)\n",
    "    \n",
    "    html = ani.to_html5_video()\n",
    "    HTML(html)"
   ]
  },
  {
   "cell_type": "code",
   "execution_count": 7,
   "metadata": {
    "executionInfo": {
     "elapsed": 6,
     "status": "ok",
     "timestamp": 1644406381834,
     "user": {
      "displayName": "김현수",
      "photoUrl": "https://lh3.googleusercontent.com/a/default-user=s64",
      "userId": "15495247894029535649"
     },
     "user_tz": -540
    },
    "id": "fIjhyDLdG0tQ"
   },
   "outputs": [],
   "source": [
    "# visualize gif file\n",
    "def plot_gif(training_progress_images, plot_length=10):\n",
    "    plt.close()\n",
    "    fig = plt.figure()\n",
    "    \n",
    "    total_len = len(training_progress_images)\n",
    "    for i in range(plot_length):\n",
    "        im = plt.imshow(training_progress_images[int(total_len/plot_length)*i])\n",
    "        plt.show()"
   ]
  },
  {
   "cell_type": "code",
   "execution_count": 8,
   "metadata": {
    "executionInfo": {
     "elapsed": 6,
     "status": "ok",
     "timestamp": 1644406381834,
     "user": {
      "displayName": "김현수",
      "photoUrl": "https://lh3.googleusercontent.com/a/default-user=s64",
      "userId": "15495247894029535649"
     },
     "user_tz": -540
    },
    "id": "Er-SraIQG0tR"
   },
   "outputs": [],
   "source": [
    "def save_image_list(dataset, real):\n",
    "    if real:\n",
    "        base_path = './img/real'\n",
    "    else:\n",
    "        base_path = './img/fake'\n",
    "    \n",
    "    dataset_path = []\n",
    "    \n",
    "    for i in range(len(dataset)):\n",
    "        save_path =  f'{base_path}/image_{i}.png'\n",
    "        dataset_path.append(save_path)\n",
    "        vutils.save_image(dataset[i], save_path)\n",
    "    \n",
    "    return base_path"
   ]
  },
  {
   "cell_type": "markdown",
   "metadata": {
    "id": "59SDJLWPG0tR"
   },
   "source": [
    "### 0.3. Prelim step 3: Load dataset, define dataloader"
   ]
  },
  {
   "cell_type": "markdown",
   "metadata": {
    "id": "09xkkEKFG0tR"
   },
   "source": [
    "![picture](https://drive.google.com/uc?id=1kdig6RLSCvYJNqarbb8gviYsnxZfSkYQ)"
   ]
  },
  {
   "cell_type": "markdown",
   "metadata": {
    "id": "acIgVsXHG0tS"
   },
   "source": [
    "\n",
    "In this class we will use **MNIST** (or you can use **Fashion-MNIST**) due to the time constraint :( \\\n",
    "You can practice with CIFAR-10 by your-self since dataset is already implemented inside PyTorch!\n",
    "- Simply use `dataset=dset.CIFAR10(.)` function in PyTorch.\n",
    "- If you are using CIFAR dataset, please note that the resolution is different to MNIST and should change model input dimension."
   ]
  },
  {
   "cell_type": "code",
   "execution_count": 9,
   "metadata": {
    "colab": {
     "base_uri": "https://localhost:8080/",
     "height": 451,
     "referenced_widgets": [
      "8741e9ec0b4f4d1e9029dd45bf96a6c5",
      "e7aa1b6da9a34d9ca5b1020fd87b2357",
      "c9ed0de558374530b4e3db5b94e14a4c",
      "cbb7843f022b42808280d1f267958d66",
      "437626c95a814c8c8ea21acd5bd8cc54",
      "9d65a7b29b0348bd8a6293c33f5fae1e",
      "fe612a78e3714c7db71164a82019baf7",
      "c61ed4ab0d264828b42bb4b552263b0c",
      "a45f4d494aab45769c0816bfe6c86b23",
      "04879e862cb745ddad60fccd0cc6fbf0",
      "19b3aa9845dd4802a9843e2df245923d",
      "c1d2f65495014ed2afb03b07ace3dc01",
      "703e1925141e48f8b228875ee7b2ac4c",
      "14e02bfd22d94256980c160fffe85b6f",
      "1290cba767ff40499d87b75212aad44a",
      "791d25d4ab9544f9ac50dc930774e5de",
      "5232593b06774f15a45a5b4f20bcfa74",
      "87782a51cef14931813bf7ad30517257",
      "d2b4ab182f9540e2adf4b673803abca7",
      "99af4c65ba8a4da9be59b9b4eb51f916",
      "69aaaf2ed5e74507b95ef07c75b7ed62",
      "d47e7baf9c414675911e7aea2e0d255d",
      "eeafd04311404526bf892c9477f19dee",
      "0f7e097bebae4e2eb525617958de6a98",
      "4b2b3e8ceb4e4b19b5442207cdcc3cf0",
      "d4175463d8334191b0ac98cfa5c56c70",
      "8de037b14479468c92da02aa2004e07c",
      "5f4584cc29a7426a86f6bb197a0c2d9f",
      "a4302fe199ad4519a64f74ae7a9fcddb",
      "fe932ae64f19413b8c900b3c08f0db06",
      "2f8e57af24c841e2911ffc032b6dfedc",
      "4dcd44aee3194f799d578b3a7ee94d11",
      "ed021105d96a4c7b826de65f9d3838ff",
      "d4eb82bd4c7d453f96260e1e1161f8dd",
      "482603e9c6954824a6d713f078923c8e",
      "877f574d6fa045a78ed624cb4cfaad75",
      "edb57c2d0a764b04acc2af89f60b461c",
      "6cbc02116ee84eb8871ee5e6d1a5820c",
      "d837df40ce7f4e05bc94b3a131e582fc",
      "e807afe60e71489bb62c218a694f8fa0",
      "14a6c32291e54d08b3ccdbbafc169e1a",
      "687721205c6f4c938eb638729a336164",
      "306b4c08aeb840d4ab77e3e1667a1668",
      "96c1937e97474dc68855464ee02d3c4d"
     ]
    },
    "executionInfo": {
     "elapsed": 2932,
     "status": "ok",
     "timestamp": 1644406384760,
     "user": {
      "displayName": "김현수",
      "photoUrl": "https://lh3.googleusercontent.com/a/default-user=s64",
      "userId": "15495247894029535649"
     },
     "user_tz": -540
    },
    "id": "0lAht1VcG0tS",
    "outputId": "486a3def-324d-401d-d5bb-007030802ec1"
   },
   "outputs": [
    {
     "name": "stdout",
     "output_type": "stream",
     "text": [
      "Downloading http://yann.lecun.com/exdb/mnist/train-images-idx3-ubyte.gz\n",
      "Downloading http://yann.lecun.com/exdb/mnist/train-images-idx3-ubyte.gz to ./dataset/MNIST/raw/train-images-idx3-ubyte.gz\n"
     ]
    },
    {
     "data": {
      "application/vnd.jupyter.widget-view+json": {
       "model_id": "8741e9ec0b4f4d1e9029dd45bf96a6c5",
       "version_major": 2,
       "version_minor": 0
      },
      "text/plain": [
       "  0%|          | 0/9912422 [00:00<?, ?it/s]"
      ]
     },
     "metadata": {},
     "output_type": "display_data"
    },
    {
     "name": "stdout",
     "output_type": "stream",
     "text": [
      "Extracting ./dataset/MNIST/raw/train-images-idx3-ubyte.gz to ./dataset/MNIST/raw\n",
      "\n",
      "Downloading http://yann.lecun.com/exdb/mnist/train-labels-idx1-ubyte.gz\n",
      "Downloading http://yann.lecun.com/exdb/mnist/train-labels-idx1-ubyte.gz to ./dataset/MNIST/raw/train-labels-idx1-ubyte.gz\n"
     ]
    },
    {
     "data": {
      "application/vnd.jupyter.widget-view+json": {
       "model_id": "c1d2f65495014ed2afb03b07ace3dc01",
       "version_major": 2,
       "version_minor": 0
      },
      "text/plain": [
       "  0%|          | 0/28881 [00:00<?, ?it/s]"
      ]
     },
     "metadata": {},
     "output_type": "display_data"
    },
    {
     "name": "stdout",
     "output_type": "stream",
     "text": [
      "Extracting ./dataset/MNIST/raw/train-labels-idx1-ubyte.gz to ./dataset/MNIST/raw\n",
      "\n",
      "Downloading http://yann.lecun.com/exdb/mnist/t10k-images-idx3-ubyte.gz\n",
      "Downloading http://yann.lecun.com/exdb/mnist/t10k-images-idx3-ubyte.gz to ./dataset/MNIST/raw/t10k-images-idx3-ubyte.gz\n"
     ]
    },
    {
     "data": {
      "application/vnd.jupyter.widget-view+json": {
       "model_id": "eeafd04311404526bf892c9477f19dee",
       "version_major": 2,
       "version_minor": 0
      },
      "text/plain": [
       "  0%|          | 0/1648877 [00:00<?, ?it/s]"
      ]
     },
     "metadata": {},
     "output_type": "display_data"
    },
    {
     "name": "stdout",
     "output_type": "stream",
     "text": [
      "Extracting ./dataset/MNIST/raw/t10k-images-idx3-ubyte.gz to ./dataset/MNIST/raw\n",
      "\n",
      "Downloading http://yann.lecun.com/exdb/mnist/t10k-labels-idx1-ubyte.gz\n",
      "Downloading http://yann.lecun.com/exdb/mnist/t10k-labels-idx1-ubyte.gz to ./dataset/MNIST/raw/t10k-labels-idx1-ubyte.gz\n"
     ]
    },
    {
     "data": {
      "application/vnd.jupyter.widget-view+json": {
       "model_id": "d4eb82bd4c7d453f96260e1e1161f8dd",
       "version_major": 2,
       "version_minor": 0
      },
      "text/plain": [
       "  0%|          | 0/4542 [00:00<?, ?it/s]"
      ]
     },
     "metadata": {},
     "output_type": "display_data"
    },
    {
     "name": "stdout",
     "output_type": "stream",
     "text": [
      "Extracting ./dataset/MNIST/raw/t10k-labels-idx1-ubyte.gz to ./dataset/MNIST/raw\n",
      "\n"
     ]
    }
   ],
   "source": [
    "dataset = dset.MNIST(root=\"./dataset\", download=True,\n",
    "                                   transform=transforms.Compose([\n",
    "                                   transforms.ToTensor(),\n",
    "                ]))\n",
    "# If you want to download FMNIST use dset.FashionMNIST\n",
    "# dataset = dset.FashionMNIST(.)\n",
    "\n",
    "dataloader = torch.utils.data.DataLoader(dataset, batch_size=128, shuffle=True, num_workers=2)"
   ]
  },
  {
   "cell_type": "markdown",
   "metadata": {
    "id": "kILmjOaWG0tS"
   },
   "source": [
    "## 1. Define your generator & discriminator"
   ]
  },
  {
   "cell_type": "markdown",
   "metadata": {
    "id": "jDd_KF2LG0tT"
   },
   "source": [
    "### 1.1. Define generator module"
   ]
  },
  {
   "cell_type": "code",
   "execution_count": 10,
   "metadata": {
    "executionInfo": {
     "elapsed": 5,
     "status": "ok",
     "timestamp": 1644406384761,
     "user": {
      "displayName": "김현수",
      "photoUrl": "https://lh3.googleusercontent.com/a/default-user=s64",
      "userId": "15495247894029535649"
     },
     "user_tz": -540
    },
    "id": "S9N09GanG0tT"
   },
   "outputs": [],
   "source": [
    "class Generator(nn.Module):\n",
    "    def __init__(self):\n",
    "        super(Generator, self).__init__()\n",
    "        self.main = nn.Sequential(\n",
    "            #########################\n",
    "            # Define your own generator #\n",
    "            #########################\n",
    "            \n",
    "            # (batch_size, 100)\n",
    "            nn.Linear(100,256),\n",
    "            nn.ReLU(),\n",
    "            nn.Linear(256,256),\n",
    "            nn.ReLU(),\n",
    "            nn.Linear(256,28*28),\n",
    "            nn.Sigmoid()\n",
    "\n",
    "            #########################\n",
    "        )\n",
    "\n",
    "    def forward(self, input):\n",
    "        #####################################\n",
    "        # Change the shape of output if necessary #\n",
    "        \n",
    "        # input shape = batch_size, 100\n",
    "\n",
    "        #####################################\n",
    "        \n",
    "        output = self.main(input)\n",
    "        \n",
    "        #####################################\n",
    "        # Change the shape of output if necessary #\n",
    "\n",
    "        # batch size, 28*28\n",
    "\n",
    "        output = output.view(-1,1,28,28)\n",
    "        # output shpae = batch_size, 1, 28, 28\n",
    "\n",
    "        #####################################\n",
    "        return output"
   ]
  },
  {
   "cell_type": "markdown",
   "metadata": {
    "id": "CyaCV5t8G0tT"
   },
   "source": [
    "### 1.2. Define discriminator module"
   ]
  },
  {
   "cell_type": "code",
   "execution_count": 13,
   "metadata": {
    "executionInfo": {
     "elapsed": 292,
     "status": "ok",
     "timestamp": 1644406414787,
     "user": {
      "displayName": "김현수",
      "photoUrl": "https://lh3.googleusercontent.com/a/default-user=s64",
      "userId": "15495247894029535649"
     },
     "user_tz": -540
    },
    "id": "YYnwDcotG0tT"
   },
   "outputs": [],
   "source": [
    "class Discriminator(nn.Module):\n",
    "    def __init__(self):\n",
    "        super(Discriminator, self).__init__()\n",
    "        self.main = nn.Sequential(\n",
    "            ############################\n",
    "            # Define your own discriminator #\n",
    "            ############################\n",
    "            nn.Linear(28*28,256),\n",
    "            nn.ReLU(),\n",
    "            nn.Linear(256,256),\n",
    "            nn.ReLU(),\n",
    "            nn.Linear(256,1),\n",
    "            nn.Sigmoid()\n",
    "            ############################\n",
    "        )\n",
    "\n",
    "    def forward(self, input):\n",
    "        #####################################\n",
    "        # Change the shape of output if necessary #\n",
    "        \n",
    "        input = input.view(-1,28*28)\n",
    "    \n",
    "        #####################################\n",
    "        \n",
    "        output = self.main(input)\n",
    "        \n",
    "        #####################################\n",
    "        # Change the shape of output if necessary #\n",
    "\n",
    "        # output = self.view(-1)\n",
    "        output = output.squeeze(dim=1)\n",
    "\n",
    "        #####################################\n",
    "        \n",
    "        return output"
   ]
  },
  {
   "cell_type": "markdown",
   "metadata": {
    "id": "IkENgeIoG0tU"
   },
   "source": [
    "### 1.3. Upload on GPU, define optimizer"
   ]
  },
  {
   "cell_type": "code",
   "execution_count": 14,
   "metadata": {
    "executionInfo": {
     "elapsed": 1,
     "status": "ok",
     "timestamp": 1644406416118,
     "user": {
      "displayName": "김현수",
      "photoUrl": "https://lh3.googleusercontent.com/a/default-user=s64",
      "userId": "15495247894029535649"
     },
     "user_tz": -540
    },
    "id": "7u96X95AG0tU"
   },
   "outputs": [],
   "source": [
    "netG = Generator().cuda() # .cuda => upload to GPU\n",
    "netD = Discriminator().cuda()\n",
    "\n",
    "optimizerD = optim.Adam(netD.parameters(), lr=0.0002)\n",
    "optimizerG = optim.Adam(netG.parameters(), lr=0.0002)"
   ]
  },
  {
   "cell_type": "markdown",
   "metadata": {
    "id": "ld3OOZzoG0tU"
   },
   "source": [
    "## 2. Noise sampling"
   ]
  },
  {
   "cell_type": "code",
   "execution_count": 15,
   "metadata": {
    "executionInfo": {
     "elapsed": 0,
     "status": "ok",
     "timestamp": 1644406416474,
     "user": {
      "displayName": "김현수",
      "photoUrl": "https://lh3.googleusercontent.com/a/default-user=s64",
      "userId": "15495247894029535649"
     },
     "user_tz": -540
    },
    "id": "v5JtcByXG0tV"
   },
   "outputs": [],
   "source": [
    "#### Implement here ####\n",
    "noise = torch.randn(128,100).cuda() # cuda 왜 붙이나?"
   ]
  },
  {
   "cell_type": "markdown",
   "metadata": {
    "id": "GGuAo7-WG0tV"
   },
   "source": [
    "## 3. Train GAN"
   ]
  },
  {
   "cell_type": "markdown",
   "metadata": {
    "id": "seYMIWBvG0tV"
   },
   "source": [
    "Implement GAN by filling out the following blankes!"
   ]
  },
  {
   "cell_type": "code",
   "execution_count": null,
   "metadata": {
    "colab": {
     "base_uri": "https://localhost:8080/"
    },
    "id": "0D6lwKwPG0tV",
    "outputId": "f01a5e42-c855-48d8-9ea9-032ea141d9ea"
   },
   "outputs": [
    {
     "name": "stdout",
     "output_type": "stream",
     "text": [
      "[0/200] Loss_D: 0.0377 Loss_G: 6.1637 D(x): 0.9799 D(G(z)): 0.0062 / 0.0022\n",
      "[1/200] Loss_D: 0.0008 Loss_G: 7.9966 D(x): 0.9999 D(G(z)): 0.0007 / 0.0003\n",
      "[2/200] Loss_D: 0.0007 Loss_G: 8.3354 D(x): 0.9997 D(G(z)): 0.0004 / 0.0003\n",
      "[3/200] Loss_D: 0.0025 Loss_G: 7.5742 D(x): 0.9996 D(G(z)): 0.0021 / 0.0007\n",
      "[4/200] Loss_D: 0.0018 Loss_G: 7.9474 D(x): 0.9993 D(G(z)): 0.0011 / 0.0004\n",
      "[5/200] Loss_D: 0.0017 Loss_G: 7.7868 D(x): 0.9997 D(G(z)): 0.0013 / 0.0005\n",
      "[6/200] Loss_D: 0.0024 Loss_G: 9.3976 D(x): 0.9980 D(G(z)): 0.0002 / 0.0002\n",
      "[7/200] Loss_D: 0.0049 Loss_G: 8.9150 D(x): 0.9963 D(G(z)): 0.0007 / 0.0004\n",
      "[8/200] Loss_D: 0.0043 Loss_G: 9.1949 D(x): 0.9983 D(G(z)): 0.0024 / 0.0011\n",
      "[9/200] Loss_D: 0.0216 Loss_G: 7.3218 D(x): 0.9903 D(G(z)): 0.0028 / 0.0013\n",
      "[10/200] Loss_D: 0.0066 Loss_G: 10.6904 D(x): 0.9944 D(G(z)): 0.0003 / 0.0001\n",
      "[11/200] Loss_D: 0.0013 Loss_G: 13.2988 D(x): 0.9995 D(G(z)): 0.0008 / 0.0001\n",
      "[12/200] Loss_D: 0.0028 Loss_G: 8.6108 D(x): 0.9996 D(G(z)): 0.0023 / 0.0007\n",
      "[13/200] Loss_D: 0.0018 Loss_G: 9.1601 D(x): 0.9998 D(G(z)): 0.0016 / 0.0005\n",
      "[14/200] Loss_D: 0.0007 Loss_G: 12.0581 D(x): 0.9994 D(G(z)): 0.0001 / 0.0000\n",
      "[15/200] Loss_D: 0.0586 Loss_G: 12.6513 D(x): 0.9894 D(G(z)): 0.0001 / 0.0001\n",
      "[16/200] Loss_D: 0.0064 Loss_G: 7.3770 D(x): 1.0000 D(G(z)): 0.0058 / 0.0085\n",
      "[17/200] Loss_D: 0.0242 Loss_G: 9.9981 D(x): 0.9889 D(G(z)): 0.0013 / 0.0015\n",
      "[18/200] Loss_D: 0.0230 Loss_G: 8.8106 D(x): 0.9960 D(G(z)): 0.0158 / 0.0023\n",
      "[19/200] Loss_D: 0.0747 Loss_G: 13.3359 D(x): 0.9895 D(G(z)): 0.0016 / 0.0019\n",
      "[20/200] Loss_D: 0.0202 Loss_G: 10.7721 D(x): 0.9898 D(G(z)): 0.0007 / 0.0007\n",
      "[21/200] Loss_D: 0.0141 Loss_G: 14.6214 D(x): 0.9989 D(G(z)): 0.0099 / 0.0008\n",
      "[22/200] Loss_D: 0.0003 Loss_G: 17.0242 D(x): 0.9997 D(G(z)): 0.0000 / 0.0000\n",
      "[23/200] Loss_D: 0.0034 Loss_G: 11.2158 D(x): 0.9994 D(G(z)): 0.0027 / 0.0012\n",
      "[24/200] Loss_D: 0.0107 Loss_G: 10.7032 D(x): 0.9980 D(G(z)): 0.0076 / 0.0033\n",
      "[25/200] Loss_D: 0.0052 Loss_G: 10.1721 D(x): 0.9966 D(G(z)): 0.0016 / 0.0008\n",
      "[26/200] Loss_D: 0.0054 Loss_G: 10.6278 D(x): 0.9966 D(G(z)): 0.0016 / 0.0008\n",
      "[27/200] Loss_D: 0.1020 Loss_G: 8.8185 D(x): 0.9870 D(G(z)): 0.0171 / 0.0080\n",
      "[28/200] Loss_D: 0.0039 Loss_G: 10.6760 D(x): 0.9972 D(G(z)): 0.0008 / 0.0005\n",
      "[29/200] Loss_D: 0.0637 Loss_G: 8.5262 D(x): 0.9824 D(G(z)): 0.0057 / 0.0025\n",
      "[30/200] Loss_D: 0.0092 Loss_G: 8.8226 D(x): 0.9974 D(G(z)): 0.0058 / 0.0026\n",
      "[31/200] Loss_D: 0.1014 Loss_G: 7.8217 D(x): 0.9634 D(G(z)): 0.0157 / 0.0076\n",
      "[32/200] Loss_D: 0.1008 Loss_G: 6.4810 D(x): 0.9852 D(G(z)): 0.0184 / 0.0143\n",
      "[33/200] Loss_D: 0.1605 Loss_G: 6.3025 D(x): 0.9485 D(G(z)): 0.0233 / 0.0172\n",
      "[34/200] Loss_D: 0.0671 Loss_G: 6.1220 D(x): 0.9730 D(G(z)): 0.0092 / 0.0088\n",
      "[35/200] Loss_D: 0.2129 Loss_G: 5.1477 D(x): 0.9387 D(G(z)): 0.0388 / 0.0310\n",
      "[36/200] Loss_D: 0.1398 Loss_G: 4.8134 D(x): 0.9467 D(G(z)): 0.0310 / 0.0278\n",
      "[37/200] Loss_D: 0.1630 Loss_G: 4.5968 D(x): 0.9444 D(G(z)): 0.0309 / 0.0359\n",
      "[38/200] Loss_D: 0.2049 Loss_G: 4.8162 D(x): 0.9266 D(G(z)): 0.0276 / 0.0265\n",
      "[39/200] Loss_D: 0.2052 Loss_G: 3.9399 D(x): 0.9478 D(G(z)): 0.0580 / 0.0440\n",
      "[40/200] Loss_D: 0.1744 Loss_G: 3.6743 D(x): 0.9727 D(G(z)): 0.0971 / 0.0712\n",
      "[41/200] Loss_D: 0.3423 Loss_G: 3.5378 D(x): 0.9119 D(G(z)): 0.0804 / 0.0741\n",
      "[42/200] Loss_D: 0.3983 Loss_G: 3.2250 D(x): 0.9032 D(G(z)): 0.1363 / 0.1119\n",
      "[43/200] Loss_D: 0.1458 Loss_G: 3.7986 D(x): 0.9576 D(G(z)): 0.0512 / 0.0406\n",
      "[44/200] Loss_D: 0.3035 Loss_G: 3.1624 D(x): 0.9093 D(G(z)): 0.0828 / 0.0783\n",
      "[45/200] Loss_D: 0.2809 Loss_G: 3.2803 D(x): 0.8969 D(G(z)): 0.0622 / 0.0579\n",
      "[46/200] Loss_D: 0.2997 Loss_G: 3.2199 D(x): 0.8993 D(G(z)): 0.0636 / 0.0570\n",
      "[47/200] Loss_D: 0.3784 Loss_G: 2.5928 D(x): 0.8992 D(G(z)): 0.1267 / 0.1201\n",
      "[48/200] Loss_D: 0.3600 Loss_G: 2.8043 D(x): 0.9104 D(G(z)): 0.1213 / 0.0989\n",
      "[49/200] Loss_D: 0.5732 Loss_G: 2.3156 D(x): 0.8127 D(G(z)): 0.1242 / 0.1356\n",
      "[50/200] Loss_D: 0.3708 Loss_G: 3.1634 D(x): 0.8874 D(G(z)): 0.0755 / 0.0676\n",
      "[51/200] Loss_D: 0.4637 Loss_G: 2.4914 D(x): 0.8576 D(G(z)): 0.1013 / 0.1087\n",
      "[52/200] Loss_D: 0.4150 Loss_G: 2.5186 D(x): 0.8996 D(G(z)): 0.1526 / 0.1254\n",
      "[53/200] Loss_D: 0.4673 Loss_G: 2.6811 D(x): 0.8684 D(G(z)): 0.1072 / 0.0996\n",
      "[54/200] Loss_D: 0.3863 Loss_G: 2.6986 D(x): 0.8852 D(G(z)): 0.0930 / 0.0937\n",
      "[55/200] Loss_D: 0.4234 Loss_G: 2.6202 D(x): 0.8831 D(G(z)): 0.1187 / 0.1030\n",
      "[56/200] Loss_D: 0.3765 Loss_G: 2.6263 D(x): 0.9034 D(G(z)): 0.1134 / 0.1016\n",
      "[57/200] Loss_D: 0.3207 Loss_G: 2.6160 D(x): 0.9047 D(G(z)): 0.1145 / 0.1029\n",
      "[58/200] Loss_D: 0.3509 Loss_G: 2.3301 D(x): 0.8981 D(G(z)): 0.1255 / 0.1234\n",
      "[59/200] Loss_D: 0.5727 Loss_G: 2.3983 D(x): 0.8224 D(G(z)): 0.1369 / 0.1262\n",
      "[60/200] Loss_D: 0.3725 Loss_G: 2.4165 D(x): 0.8948 D(G(z)): 0.1186 / 0.1164\n",
      "[61/200] Loss_D: 0.4810 Loss_G: 2.4248 D(x): 0.8557 D(G(z)): 0.1290 / 0.1149\n",
      "[62/200] Loss_D: 0.4889 Loss_G: 2.5652 D(x): 0.8264 D(G(z)): 0.0968 / 0.0985\n",
      "[63/200] Loss_D: 0.4238 Loss_G: 2.1677 D(x): 0.8885 D(G(z)): 0.1390 / 0.1348\n",
      "[64/200] Loss_D: 0.4006 Loss_G: 2.3064 D(x): 0.8807 D(G(z)): 0.1384 / 0.1276\n",
      "[65/200] Loss_D: 0.5254 Loss_G: 2.0535 D(x): 0.8693 D(G(z)): 0.1740 / 0.1668\n",
      "[66/200] Loss_D: 0.4921 Loss_G: 2.3491 D(x): 0.8596 D(G(z)): 0.1391 / 0.1299\n",
      "[67/200] Loss_D: 0.5048 Loss_G: 2.1760 D(x): 0.8276 D(G(z)): 0.1378 / 0.1396\n",
      "[68/200] Loss_D: 0.3307 Loss_G: 2.3348 D(x): 0.9050 D(G(z)): 0.1243 / 0.1174\n",
      "[69/200] Loss_D: 0.3748 Loss_G: 2.2641 D(x): 0.8919 D(G(z)): 0.1278 / 0.1241\n",
      "[70/200] Loss_D: 0.3798 Loss_G: 2.1524 D(x): 0.8858 D(G(z)): 0.1317 / 0.1276\n",
      "[71/200] Loss_D: 0.3618 Loss_G: 2.4243 D(x): 0.9165 D(G(z)): 0.1357 / 0.1210\n",
      "[72/200] Loss_D: 0.4923 Loss_G: 2.4280 D(x): 0.8442 D(G(z)): 0.1052 / 0.1102\n",
      "[73/200] Loss_D: 0.3820 Loss_G: 2.2125 D(x): 0.8774 D(G(z)): 0.1290 / 0.1258\n",
      "[74/200] Loss_D: 0.4115 Loss_G: 2.2087 D(x): 0.8881 D(G(z)): 0.1422 / 0.1370\n",
      "[75/200] Loss_D: 0.4719 Loss_G: 2.1395 D(x): 0.8583 D(G(z)): 0.1430 / 0.1422\n",
      "[76/200] Loss_D: 0.3373 Loss_G: 2.4976 D(x): 0.8992 D(G(z)): 0.0964 / 0.0967\n",
      "[77/200] Loss_D: 0.3529 Loss_G: 2.3198 D(x): 0.8953 D(G(z)): 0.1153 / 0.1150\n",
      "[78/200] Loss_D: 0.3524 Loss_G: 2.4872 D(x): 0.8717 D(G(z)): 0.0953 / 0.0943\n"
     ]
    }
   ],
   "source": [
    "fixed_noise = torch.randn(128, 100).cuda() # 왜 붙이나?\n",
    "\n",
    "criterion = nn.BCELoss()\n",
    "\n",
    "n_epoch = 200\n",
    "training_progress_images_list = []\n",
    "for epoch in range(n_epoch):\n",
    "    for i, (data, _) in enumerate(dataloader):\n",
    "        ####################################################\n",
    "        # (1) Update D network: maximize log(D(x)) + log(1 - D(G(z))) #\n",
    "        ###################################################\n",
    "        # train with real\n",
    "        netD.zero_grad()\n",
    "        data = data.cuda()\n",
    "        batch_size = data.size(0)\n",
    "        \n",
    "        label = torch.ones((batch_size,)).cuda() # real label \n",
    "        output = netD(data)\n",
    "        errD_real = criterion(output,label)\n",
    "        D_x = output.mean().item()\n",
    "\n",
    "        # train with fake\n",
    "        noise = torch.randn(batch_size,100).cuda()\n",
    "        fake = netG(noise)\n",
    "        label = torch.zeros((batch_size,)).cuda() # fake label\n",
    "        output = netD(fake.detach())\n",
    "        errD_fake = criterion(output,label)\n",
    "        D_G_z1 = output.mean().item()\n",
    "\n",
    "        # Loss backward\n",
    "        errD = errD_real + errD_fake\n",
    "        errD.backward()\n",
    "        optimizerD.step()\n",
    "\n",
    "        ########################################\n",
    "        # (2) Update G network: maximize log(D(G(z))) #\n",
    "        ########################################\n",
    "        netG.zero_grad()\n",
    "        label = torch.ones((batch_size,)).cuda() # fake labels are real for generator cost\n",
    "        output = netD(fake)\n",
    "        errG = criterion(output,label)\n",
    "        D_G_z2 = output.mean().item()\n",
    "\n",
    "        errG.backward()\n",
    "        optimizerG.step()\n",
    "        \n",
    "    print('[%d/%d] Loss_D: %.4f Loss_G: %.4f D(x): %.4f D(G(z)): %.4f / %.4f' \n",
    "              % (epoch, n_epoch, errD.item(), errG.item(), D_x, D_G_z1, D_G_z2))\n",
    "    \n",
    "    #save the output\n",
    "    fake = netG(fixed_noise)\n",
    "    training_progress_images_list = save_gif(training_progress_images_list, fake)  # Save fake image while training!\n",
    "    \n",
    "    # Check pointing for every epoch\n",
    "    torch.save(netG.state_dict(), './checkpoint/netG_epoch_%d.pth' % (epoch))\n",
    "    torch.save(netD.state_dict(), './checkpoint/netD_epoch_%d.pth' % (epoch))"
   ]
  },
  {
   "cell_type": "markdown",
   "metadata": {
    "id": "WuaFezZEG0tW"
   },
   "source": [
    "## 4. Visualize/Plot your generated samples"
   ]
  },
  {
   "cell_type": "code",
   "execution_count": null,
   "metadata": {
    "id": "zdrIn8YgG0tW"
   },
   "outputs": [],
   "source": [
    "#vis_gif(training_progress_images_list)\n",
    "plot_gif(training_progress_images_list)"
   ]
  },
  {
   "cell_type": "markdown",
   "metadata": {
    "id": "tHhINo1bG0tW"
   },
   "source": [
    "## 5. Evaluate your model: Fréchet Inception Distance (FID) score"
   ]
  },
  {
   "cell_type": "markdown",
   "metadata": {
    "id": "E959vZQiG0tX"
   },
   "source": [
    "How to evaluate the equality of your generated sample?\\\n",
    "Maybe **training loss...? No!**\n",
    "Papers have shown that training loss might not be the best metric!\n",
    "\n",
    "There are many evaluation metric that has been proposed and most famous metric is as follows: [**Inception score**](https://arxiv.org/abs/1606.03498), [**Fréchet Inception Distance**](https://arxiv.org/abs/1706.08500)\n",
    "\n",
    "In this course, we will handle **Fréchet Inception Distance (FID) score.**"
   ]
  },
  {
   "cell_type": "markdown",
   "metadata": {
    "id": "q4005qGRG0tX"
   },
   "source": [
    "### 5.1. What is FID score?"
   ]
  },
  {
   "cell_type": "markdown",
   "metadata": {
    "id": "xizKG_VPG0tY"
   },
   "source": [
    "FID measures the distance between **real dataset** & **fake dataset** in **feature space of Inception** pretrained network.\\\n",
    "From the extracted features of real & fake dataset, we can compute mean & covariance of each features to calculate the **distance between distributions**.\n",
    "- For more explanation see this [article](https://medium.com/@jonathan_hui/gan-how-to-measure-gan-performance-64b988c47732) or [paper](https://arxiv.org/abs/1706.08500)"
   ]
  },
  {
   "cell_type": "markdown",
   "metadata": {
    "id": "cd-gT_xoG0tY"
   },
   "source": [
    "For the implementation, we simply use the source code from github: https://github.com/mseitzer/pytorch-fid\n",
    "\n",
    "Please note that Inception network is **pretrained on ImageNet**, therefore the MNIST FID score might be unrealiable.\\"
   ]
  },
  {
   "cell_type": "markdown",
   "metadata": {
    "id": "paCv8wGHG0tZ"
   },
   "source": [
    "### 5.2. Load FID score function: code is from the github"
   ]
  },
  {
   "cell_type": "code",
   "execution_count": null,
   "metadata": {
    "id": "ElDtXMXrG0tZ"
   },
   "outputs": [],
   "source": [
    "!wget --no-check-certificate 'https://docs.google.com/uc?export=download&id=1InzR1qylS3Air4IvpS9CoamqJ0r9bqQg' -O inception.py"
   ]
  },
  {
   "cell_type": "code",
   "execution_count": null,
   "metadata": {
    "id": "qvT2qQjLG0tZ"
   },
   "outputs": [],
   "source": [
    "!wget --no-check-certificate 'https://docs.google.com/uc?export=download&id=1AtTxnuasIaSTTmI9MI7k8ugY8KJ1cw3Y' -O fid_score.py"
   ]
  },
  {
   "cell_type": "code",
   "execution_count": null,
   "metadata": {
    "id": "y9dUhpqRG0tZ"
   },
   "outputs": [],
   "source": [
    "from fid_score import calculate_fid_given_paths  # The code is downloaded from github"
   ]
  },
  {
   "cell_type": "markdown",
   "metadata": {
    "id": "LkD4H_KSG0ta"
   },
   "source": [
    "### 5.3. Evaluate your model (save samples!!)\n",
    "\n",
    "The Inception network's input resolution is 224 by 224, we upscale small resolution datasets (e.g., MNSIT, CIFAR) into same resolution.\n",
    "\n",
    "Please note that, we only save *50 samples in this lecture*, however in practice we use **full test dataset**: [reference](https://arxiv.org/abs/1807.04720)"
   ]
  },
  {
   "cell_type": "code",
   "execution_count": null,
   "metadata": {
    "id": "xw1kYsyAG0ta"
   },
   "outputs": [],
   "source": [
    "test_dataset = dset.MNIST(root=\"./dataset\", download=True, train=False,\n",
    "                                           transform=transforms.Compose([\n",
    "                                           transforms.ToTensor(),\n",
    "                        ]))\n",
    "\n",
    "dataloader = torch.utils.data.DataLoader(test_dataset, batch_size=50, shuffle=True, num_workers=2)\n",
    "\n",
    "for i, (data, _) in enumerate(dataloader):\n",
    "    real_dataset = data\n",
    "    break\n",
    "    \n",
    "noise = torch.randn(50, 100).cuda()\n",
    "fake_dataset = netG(noise)"
   ]
  },
  {
   "cell_type": "code",
   "execution_count": null,
   "metadata": {
    "id": "ugfrmteoG0ta"
   },
   "outputs": [],
   "source": [
    "real_image_path_list = save_image_list(real_dataset, True)\n",
    "fake_image_path_list = save_image_list(fake_dataset, False)"
   ]
  },
  {
   "cell_type": "markdown",
   "metadata": {
    "id": "YaNdejf3G0tb"
   },
   "source": [
    "### 5.4 Evaluate FID score"
   ]
  },
  {
   "cell_type": "code",
   "execution_count": null,
   "metadata": {
    "id": "75yqjndLG0tb"
   },
   "outputs": [],
   "source": [
    "# calculate_fid_given_paths(paths, batch_size, cuda, dims)\n",
    "fid_value = calculate_fid_given_paths([real_image_path_list, fake_image_path_list],\n",
    "                                                          50, \n",
    "                                                          True,\n",
    "                                                          2048)"
   ]
  },
  {
   "cell_type": "code",
   "execution_count": null,
   "metadata": {
    "id": "Z1q-WSiPG0tb"
   },
   "outputs": [],
   "source": [
    "print (f'FID score: {fid_value}')"
   ]
  },
  {
   "cell_type": "markdown",
   "metadata": {
    "id": "GAzyMn1tG0tc"
   },
   "source": [
    "## Additional: DCGAN (try it by your-self)"
   ]
  },
  {
   "cell_type": "markdown",
   "metadata": {
    "id": "5j5KAz6HG0tc"
   },
   "source": [
    "There are various modern architectures of GAN e.g., DCGAN, SNGAN, and also training methods e.g., WGAN, gradient penulty\n",
    "\n",
    "You can try the following architecture to improve the quality of generation!\n",
    "- **Note that this version is for 64 by 64 resolution**"
   ]
  },
  {
   "cell_type": "code",
   "execution_count": null,
   "metadata": {
    "id": "AcuY1y_LG0tc"
   },
   "outputs": [],
   "source": [
    "nc = 3 # number of channels, RGB\n",
    "nz = 100 # input noise dimension\n",
    "ngf = 64 # number of generator filters\n",
    "ndf = 64 #number of discriminator filters\n",
    "\n",
    "class Generator(nn.Module):\n",
    "    def __init__(self):\n",
    "        super(Generator, self).__init__()\n",
    "        self.main = nn.Sequential(\n",
    "            # input is Z, going into a convolution\n",
    "            nn.ConvTranspose2d(nz, ngf * 8, 4, 1, 0, bias=False),\n",
    "            nn.BatchNorm2d(ngf * 8),\n",
    "            nn.ReLU(True),\n",
    "            # state size. (ngf*8) x 4 x 4\n",
    "            nn.ConvTranspose2d(ngf * 8, ngf * 4, 4, 2, 1, bias=False),\n",
    "            nn.BatchNorm2d(ngf * 4),\n",
    "            nn.ReLU(True),\n",
    "            # state size. (ngf*4) x 8 x 8\n",
    "            nn.ConvTranspose2d(ngf * 4, ngf * 2, 4, 2, 1, bias=False),\n",
    "            nn.BatchNorm2d(ngf * 2),\n",
    "            nn.ReLU(True),\n",
    "            # state size. (ngf*2) x 16 x 16\n",
    "            nn.ConvTranspose2d(ngf * 2, ngf, 4, 2, 1, bias=False),\n",
    "            nn.BatchNorm2d(ngf),\n",
    "            nn.ReLU(True),\n",
    "            # state size. (ngf) x 32 x 32\n",
    "            nn.ConvTranspose2d(ngf, nc, 4, 2, 1, bias=False),\n",
    "            nn.Tanh()\n",
    "            # state size. (nc) x 64 x 64\n",
    "        )\n",
    "\n",
    "    def forward(self, input):\n",
    "        output = self.main(input)\n",
    "        return output"
   ]
  },
  {
   "cell_type": "code",
   "execution_count": null,
   "metadata": {
    "id": "MQ1R_WzMG0tc"
   },
   "outputs": [],
   "source": [
    "class Discriminator(nn.Module):\n",
    "    def __init__(self):\n",
    "        super(Discriminator, self).__init__()\n",
    "        self.main = nn.Sequential(\n",
    "            # input is (nc) x 64 x 64\n",
    "            nn.Conv2d(nc, ndf, 4, 2, 1, bias=False),\n",
    "            nn.LeakyReLU(0.2, inplace=True),\n",
    "            # state size. (ndf) x 32 x 32\n",
    "            nn.Conv2d(ndf, ndf * 2, 4, 2, 1, bias=False),\n",
    "            nn.BatchNorm2d(ndf * 2),\n",
    "            nn.LeakyReLU(0.2, inplace=True),\n",
    "            # state size. (ndf*2) x 16 x 16\n",
    "            nn.Conv2d(ndf * 2, ndf * 4, 4, 2, 1, bias=False),\n",
    "            nn.BatchNorm2d(ndf * 4),\n",
    "            nn.LeakyReLU(0.2, inplace=True),\n",
    "            # state size. (ndf*4) x 8 x 8\n",
    "            nn.Conv2d(ndf * 4, ndf * 8, 4, 2, 1, bias=False),\n",
    "            nn.BatchNorm2d(ndf * 8),\n",
    "            nn.LeakyReLU(0.2, inplace=True),\n",
    "            # state size. (ndf*8) x 4 x 4\n",
    "            nn.Conv2d(ndf * 8, 1, 4, 1, 0, bias=False),\n",
    "            nn.Sigmoid()\n",
    "        )\n",
    "\n",
    "    def forward(self, input):\n",
    "        output = self.main(input)\n",
    "        return output.view(-1, 1).squeeze(1)"
   ]
  },
  {
   "cell_type": "markdown",
   "metadata": {
    "id": "AtglVgmdG0tc"
   },
   "source": [
    "## Reference\n",
    "\n",
    "PyTorch official DCGAN tutorial: https://pytorch.org/tutorials/beginner/dcgan_faces_tutorial.html \\\n",
    "github 1: https://github.com/Ksuryateja/DCGAN-CIFAR10-pytorch/blob/master/gan_cifar.py \\\n",
    "github 2: https://github.com/mseitzer/pytorch-fid \\\n",
    "FID score: https://github.com/mseitzer/pytorch-fid \\\n",
    "Inception score: https://github.com/sbarratt/inception-score-pytorch"
   ]
  }
 ],
 "metadata": {
  "accelerator": "GPU",
  "colab": {
   "collapsed_sections": [],
   "name": "ai504_06_gan.ipynb",
   "provenance": []
  },
  "kernelspec": {
   "display_name": "Python 3",
   "language": "python",
   "name": "python3"
  },
  "language_info": {
   "codemirror_mode": {
    "name": "ipython",
    "version": 3
   },
   "file_extension": ".py",
   "mimetype": "text/x-python",
   "name": "python",
   "nbconvert_exporter": "python",
   "pygments_lexer": "ipython3",
   "version": "3.8.5"
  },
  "widgets": {
   "application/vnd.jupyter.widget-state+json": {
    "04879e862cb745ddad60fccd0cc6fbf0": {
     "model_module": "@jupyter-widgets/controls",
     "model_module_version": "1.5.0",
     "model_name": "DescriptionStyleModel",
     "state": {
      "_model_module": "@jupyter-widgets/controls",
      "_model_module_version": "1.5.0",
      "_model_name": "DescriptionStyleModel",
      "_view_count": null,
      "_view_module": "@jupyter-widgets/base",
      "_view_module_version": "1.2.0",
      "_view_name": "StyleView",
      "description_width": ""
     }
    },
    "0f7e097bebae4e2eb525617958de6a98": {
     "model_module": "@jupyter-widgets/base",
     "model_module_version": "1.2.0",
     "model_name": "LayoutModel",
     "state": {
      "_model_module": "@jupyter-widgets/base",
      "_model_module_version": "1.2.0",
      "_model_name": "LayoutModel",
      "_view_count": null,
      "_view_module": "@jupyter-widgets/base",
      "_view_module_version": "1.2.0",
      "_view_name": "LayoutView",
      "align_content": null,
      "align_items": null,
      "align_self": null,
      "border": null,
      "bottom": null,
      "display": null,
      "flex": null,
      "flex_flow": null,
      "grid_area": null,
      "grid_auto_columns": null,
      "grid_auto_flow": null,
      "grid_auto_rows": null,
      "grid_column": null,
      "grid_gap": null,
      "grid_row": null,
      "grid_template_areas": null,
      "grid_template_columns": null,
      "grid_template_rows": null,
      "height": null,
      "justify_content": null,
      "justify_items": null,
      "left": null,
      "margin": null,
      "max_height": null,
      "max_width": null,
      "min_height": null,
      "min_width": null,
      "object_fit": null,
      "object_position": null,
      "order": null,
      "overflow": null,
      "overflow_x": null,
      "overflow_y": null,
      "padding": null,
      "right": null,
      "top": null,
      "visibility": null,
      "width": null
     }
    },
    "1290cba767ff40499d87b75212aad44a": {
     "model_module": "@jupyter-widgets/controls",
     "model_module_version": "1.5.0",
     "model_name": "FloatProgressModel",
     "state": {
      "_dom_classes": [],
      "_model_module": "@jupyter-widgets/controls",
      "_model_module_version": "1.5.0",
      "_model_name": "FloatProgressModel",
      "_view_count": null,
      "_view_module": "@jupyter-widgets/controls",
      "_view_module_version": "1.5.0",
      "_view_name": "ProgressView",
      "bar_style": "success",
      "description": "",
      "description_tooltip": null,
      "layout": "IPY_MODEL_99af4c65ba8a4da9be59b9b4eb51f916",
      "max": 28881,
      "min": 0,
      "orientation": "horizontal",
      "style": "IPY_MODEL_d2b4ab182f9540e2adf4b673803abca7",
      "value": 28881
     }
    },
    "14a6c32291e54d08b3ccdbbafc169e1a": {
     "model_module": "@jupyter-widgets/controls",
     "model_module_version": "1.5.0",
     "model_name": "ProgressStyleModel",
     "state": {
      "_model_module": "@jupyter-widgets/controls",
      "_model_module_version": "1.5.0",
      "_model_name": "ProgressStyleModel",
      "_view_count": null,
      "_view_module": "@jupyter-widgets/base",
      "_view_module_version": "1.2.0",
      "_view_name": "StyleView",
      "bar_color": null,
      "description_width": ""
     }
    },
    "14e02bfd22d94256980c160fffe85b6f": {
     "model_module": "@jupyter-widgets/controls",
     "model_module_version": "1.5.0",
     "model_name": "HTMLModel",
     "state": {
      "_dom_classes": [],
      "_model_module": "@jupyter-widgets/controls",
      "_model_module_version": "1.5.0",
      "_model_name": "HTMLModel",
      "_view_count": null,
      "_view_module": "@jupyter-widgets/controls",
      "_view_module_version": "1.5.0",
      "_view_name": "HTMLView",
      "description": "",
      "description_tooltip": null,
      "layout": "IPY_MODEL_87782a51cef14931813bf7ad30517257",
      "placeholder": "​",
      "style": "IPY_MODEL_5232593b06774f15a45a5b4f20bcfa74",
      "value": ""
     }
    },
    "19b3aa9845dd4802a9843e2df245923d": {
     "model_module": "@jupyter-widgets/base",
     "model_module_version": "1.2.0",
     "model_name": "LayoutModel",
     "state": {
      "_model_module": "@jupyter-widgets/base",
      "_model_module_version": "1.2.0",
      "_model_name": "LayoutModel",
      "_view_count": null,
      "_view_module": "@jupyter-widgets/base",
      "_view_module_version": "1.2.0",
      "_view_name": "LayoutView",
      "align_content": null,
      "align_items": null,
      "align_self": null,
      "border": null,
      "bottom": null,
      "display": null,
      "flex": null,
      "flex_flow": null,
      "grid_area": null,
      "grid_auto_columns": null,
      "grid_auto_flow": null,
      "grid_auto_rows": null,
      "grid_column": null,
      "grid_gap": null,
      "grid_row": null,
      "grid_template_areas": null,
      "grid_template_columns": null,
      "grid_template_rows": null,
      "height": null,
      "justify_content": null,
      "justify_items": null,
      "left": null,
      "margin": null,
      "max_height": null,
      "max_width": null,
      "min_height": null,
      "min_width": null,
      "object_fit": null,
      "object_position": null,
      "order": null,
      "overflow": null,
      "overflow_x": null,
      "overflow_y": null,
      "padding": null,
      "right": null,
      "top": null,
      "visibility": null,
      "width": null
     }
    },
    "2f8e57af24c841e2911ffc032b6dfedc": {
     "model_module": "@jupyter-widgets/base",
     "model_module_version": "1.2.0",
     "model_name": "LayoutModel",
     "state": {
      "_model_module": "@jupyter-widgets/base",
      "_model_module_version": "1.2.0",
      "_model_name": "LayoutModel",
      "_view_count": null,
      "_view_module": "@jupyter-widgets/base",
      "_view_module_version": "1.2.0",
      "_view_name": "LayoutView",
      "align_content": null,
      "align_items": null,
      "align_self": null,
      "border": null,
      "bottom": null,
      "display": null,
      "flex": null,
      "flex_flow": null,
      "grid_area": null,
      "grid_auto_columns": null,
      "grid_auto_flow": null,
      "grid_auto_rows": null,
      "grid_column": null,
      "grid_gap": null,
      "grid_row": null,
      "grid_template_areas": null,
      "grid_template_columns": null,
      "grid_template_rows": null,
      "height": null,
      "justify_content": null,
      "justify_items": null,
      "left": null,
      "margin": null,
      "max_height": null,
      "max_width": null,
      "min_height": null,
      "min_width": null,
      "object_fit": null,
      "object_position": null,
      "order": null,
      "overflow": null,
      "overflow_x": null,
      "overflow_y": null,
      "padding": null,
      "right": null,
      "top": null,
      "visibility": null,
      "width": null
     }
    },
    "306b4c08aeb840d4ab77e3e1667a1668": {
     "model_module": "@jupyter-widgets/controls",
     "model_module_version": "1.5.0",
     "model_name": "DescriptionStyleModel",
     "state": {
      "_model_module": "@jupyter-widgets/controls",
      "_model_module_version": "1.5.0",
      "_model_name": "DescriptionStyleModel",
      "_view_count": null,
      "_view_module": "@jupyter-widgets/base",
      "_view_module_version": "1.2.0",
      "_view_name": "StyleView",
      "description_width": ""
     }
    },
    "437626c95a814c8c8ea21acd5bd8cc54": {
     "model_module": "@jupyter-widgets/controls",
     "model_module_version": "1.5.0",
     "model_name": "HTMLModel",
     "state": {
      "_dom_classes": [],
      "_model_module": "@jupyter-widgets/controls",
      "_model_module_version": "1.5.0",
      "_model_name": "HTMLModel",
      "_view_count": null,
      "_view_module": "@jupyter-widgets/controls",
      "_view_module_version": "1.5.0",
      "_view_name": "HTMLView",
      "description": "",
      "description_tooltip": null,
      "layout": "IPY_MODEL_19b3aa9845dd4802a9843e2df245923d",
      "placeholder": "​",
      "style": "IPY_MODEL_04879e862cb745ddad60fccd0cc6fbf0",
      "value": " 9913344/? [00:00&lt;00:00, 20440207.72it/s]"
     }
    },
    "482603e9c6954824a6d713f078923c8e": {
     "model_module": "@jupyter-widgets/base",
     "model_module_version": "1.2.0",
     "model_name": "LayoutModel",
     "state": {
      "_model_module": "@jupyter-widgets/base",
      "_model_module_version": "1.2.0",
      "_model_name": "LayoutModel",
      "_view_count": null,
      "_view_module": "@jupyter-widgets/base",
      "_view_module_version": "1.2.0",
      "_view_name": "LayoutView",
      "align_content": null,
      "align_items": null,
      "align_self": null,
      "border": null,
      "bottom": null,
      "display": null,
      "flex": null,
      "flex_flow": null,
      "grid_area": null,
      "grid_auto_columns": null,
      "grid_auto_flow": null,
      "grid_auto_rows": null,
      "grid_column": null,
      "grid_gap": null,
      "grid_row": null,
      "grid_template_areas": null,
      "grid_template_columns": null,
      "grid_template_rows": null,
      "height": null,
      "justify_content": null,
      "justify_items": null,
      "left": null,
      "margin": null,
      "max_height": null,
      "max_width": null,
      "min_height": null,
      "min_width": null,
      "object_fit": null,
      "object_position": null,
      "order": null,
      "overflow": null,
      "overflow_x": null,
      "overflow_y": null,
      "padding": null,
      "right": null,
      "top": null,
      "visibility": null,
      "width": null
     }
    },
    "4b2b3e8ceb4e4b19b5442207cdcc3cf0": {
     "model_module": "@jupyter-widgets/controls",
     "model_module_version": "1.5.0",
     "model_name": "HTMLModel",
     "state": {
      "_dom_classes": [],
      "_model_module": "@jupyter-widgets/controls",
      "_model_module_version": "1.5.0",
      "_model_name": "HTMLModel",
      "_view_count": null,
      "_view_module": "@jupyter-widgets/controls",
      "_view_module_version": "1.5.0",
      "_view_name": "HTMLView",
      "description": "",
      "description_tooltip": null,
      "layout": "IPY_MODEL_a4302fe199ad4519a64f74ae7a9fcddb",
      "placeholder": "​",
      "style": "IPY_MODEL_5f4584cc29a7426a86f6bb197a0c2d9f",
      "value": ""
     }
    },
    "4dcd44aee3194f799d578b3a7ee94d11": {
     "model_module": "@jupyter-widgets/controls",
     "model_module_version": "1.5.0",
     "model_name": "DescriptionStyleModel",
     "state": {
      "_model_module": "@jupyter-widgets/controls",
      "_model_module_version": "1.5.0",
      "_model_name": "DescriptionStyleModel",
      "_view_count": null,
      "_view_module": "@jupyter-widgets/base",
      "_view_module_version": "1.2.0",
      "_view_name": "StyleView",
      "description_width": ""
     }
    },
    "5232593b06774f15a45a5b4f20bcfa74": {
     "model_module": "@jupyter-widgets/controls",
     "model_module_version": "1.5.0",
     "model_name": "DescriptionStyleModel",
     "state": {
      "_model_module": "@jupyter-widgets/controls",
      "_model_module_version": "1.5.0",
      "_model_name": "DescriptionStyleModel",
      "_view_count": null,
      "_view_module": "@jupyter-widgets/base",
      "_view_module_version": "1.2.0",
      "_view_name": "StyleView",
      "description_width": ""
     }
    },
    "5f4584cc29a7426a86f6bb197a0c2d9f": {
     "model_module": "@jupyter-widgets/controls",
     "model_module_version": "1.5.0",
     "model_name": "DescriptionStyleModel",
     "state": {
      "_model_module": "@jupyter-widgets/controls",
      "_model_module_version": "1.5.0",
      "_model_name": "DescriptionStyleModel",
      "_view_count": null,
      "_view_module": "@jupyter-widgets/base",
      "_view_module_version": "1.2.0",
      "_view_name": "StyleView",
      "description_width": ""
     }
    },
    "687721205c6f4c938eb638729a336164": {
     "model_module": "@jupyter-widgets/base",
     "model_module_version": "1.2.0",
     "model_name": "LayoutModel",
     "state": {
      "_model_module": "@jupyter-widgets/base",
      "_model_module_version": "1.2.0",
      "_model_name": "LayoutModel",
      "_view_count": null,
      "_view_module": "@jupyter-widgets/base",
      "_view_module_version": "1.2.0",
      "_view_name": "LayoutView",
      "align_content": null,
      "align_items": null,
      "align_self": null,
      "border": null,
      "bottom": null,
      "display": null,
      "flex": null,
      "flex_flow": null,
      "grid_area": null,
      "grid_auto_columns": null,
      "grid_auto_flow": null,
      "grid_auto_rows": null,
      "grid_column": null,
      "grid_gap": null,
      "grid_row": null,
      "grid_template_areas": null,
      "grid_template_columns": null,
      "grid_template_rows": null,
      "height": null,
      "justify_content": null,
      "justify_items": null,
      "left": null,
      "margin": null,
      "max_height": null,
      "max_width": null,
      "min_height": null,
      "min_width": null,
      "object_fit": null,
      "object_position": null,
      "order": null,
      "overflow": null,
      "overflow_x": null,
      "overflow_y": null,
      "padding": null,
      "right": null,
      "top": null,
      "visibility": null,
      "width": null
     }
    },
    "69aaaf2ed5e74507b95ef07c75b7ed62": {
     "model_module": "@jupyter-widgets/controls",
     "model_module_version": "1.5.0",
     "model_name": "DescriptionStyleModel",
     "state": {
      "_model_module": "@jupyter-widgets/controls",
      "_model_module_version": "1.5.0",
      "_model_name": "DescriptionStyleModel",
      "_view_count": null,
      "_view_module": "@jupyter-widgets/base",
      "_view_module_version": "1.2.0",
      "_view_name": "StyleView",
      "description_width": ""
     }
    },
    "6cbc02116ee84eb8871ee5e6d1a5820c": {
     "model_module": "@jupyter-widgets/controls",
     "model_module_version": "1.5.0",
     "model_name": "HTMLModel",
     "state": {
      "_dom_classes": [],
      "_model_module": "@jupyter-widgets/controls",
      "_model_module_version": "1.5.0",
      "_model_name": "HTMLModel",
      "_view_count": null,
      "_view_module": "@jupyter-widgets/controls",
      "_view_module_version": "1.5.0",
      "_view_name": "HTMLView",
      "description": "",
      "description_tooltip": null,
      "layout": "IPY_MODEL_96c1937e97474dc68855464ee02d3c4d",
      "placeholder": "​",
      "style": "IPY_MODEL_306b4c08aeb840d4ab77e3e1667a1668",
      "value": " 5120/? [00:00&lt;00:00, 6112.15it/s]"
     }
    },
    "703e1925141e48f8b228875ee7b2ac4c": {
     "model_module": "@jupyter-widgets/base",
     "model_module_version": "1.2.0",
     "model_name": "LayoutModel",
     "state": {
      "_model_module": "@jupyter-widgets/base",
      "_model_module_version": "1.2.0",
      "_model_name": "LayoutModel",
      "_view_count": null,
      "_view_module": "@jupyter-widgets/base",
      "_view_module_version": "1.2.0",
      "_view_name": "LayoutView",
      "align_content": null,
      "align_items": null,
      "align_self": null,
      "border": null,
      "bottom": null,
      "display": null,
      "flex": null,
      "flex_flow": null,
      "grid_area": null,
      "grid_auto_columns": null,
      "grid_auto_flow": null,
      "grid_auto_rows": null,
      "grid_column": null,
      "grid_gap": null,
      "grid_row": null,
      "grid_template_areas": null,
      "grid_template_columns": null,
      "grid_template_rows": null,
      "height": null,
      "justify_content": null,
      "justify_items": null,
      "left": null,
      "margin": null,
      "max_height": null,
      "max_width": null,
      "min_height": null,
      "min_width": null,
      "object_fit": null,
      "object_position": null,
      "order": null,
      "overflow": null,
      "overflow_x": null,
      "overflow_y": null,
      "padding": null,
      "right": null,
      "top": null,
      "visibility": null,
      "width": null
     }
    },
    "791d25d4ab9544f9ac50dc930774e5de": {
     "model_module": "@jupyter-widgets/controls",
     "model_module_version": "1.5.0",
     "model_name": "HTMLModel",
     "state": {
      "_dom_classes": [],
      "_model_module": "@jupyter-widgets/controls",
      "_model_module_version": "1.5.0",
      "_model_name": "HTMLModel",
      "_view_count": null,
      "_view_module": "@jupyter-widgets/controls",
      "_view_module_version": "1.5.0",
      "_view_name": "HTMLView",
      "description": "",
      "description_tooltip": null,
      "layout": "IPY_MODEL_d47e7baf9c414675911e7aea2e0d255d",
      "placeholder": "​",
      "style": "IPY_MODEL_69aaaf2ed5e74507b95ef07c75b7ed62",
      "value": " 29696/? [00:00&lt;00:00, 9620.39it/s]"
     }
    },
    "8741e9ec0b4f4d1e9029dd45bf96a6c5": {
     "model_module": "@jupyter-widgets/controls",
     "model_module_version": "1.5.0",
     "model_name": "HBoxModel",
     "state": {
      "_dom_classes": [],
      "_model_module": "@jupyter-widgets/controls",
      "_model_module_version": "1.5.0",
      "_model_name": "HBoxModel",
      "_view_count": null,
      "_view_module": "@jupyter-widgets/controls",
      "_view_module_version": "1.5.0",
      "_view_name": "HBoxView",
      "box_style": "",
      "children": [
       "IPY_MODEL_c9ed0de558374530b4e3db5b94e14a4c",
       "IPY_MODEL_cbb7843f022b42808280d1f267958d66",
       "IPY_MODEL_437626c95a814c8c8ea21acd5bd8cc54"
      ],
      "layout": "IPY_MODEL_e7aa1b6da9a34d9ca5b1020fd87b2357"
     }
    },
    "87782a51cef14931813bf7ad30517257": {
     "model_module": "@jupyter-widgets/base",
     "model_module_version": "1.2.0",
     "model_name": "LayoutModel",
     "state": {
      "_model_module": "@jupyter-widgets/base",
      "_model_module_version": "1.2.0",
      "_model_name": "LayoutModel",
      "_view_count": null,
      "_view_module": "@jupyter-widgets/base",
      "_view_module_version": "1.2.0",
      "_view_name": "LayoutView",
      "align_content": null,
      "align_items": null,
      "align_self": null,
      "border": null,
      "bottom": null,
      "display": null,
      "flex": null,
      "flex_flow": null,
      "grid_area": null,
      "grid_auto_columns": null,
      "grid_auto_flow": null,
      "grid_auto_rows": null,
      "grid_column": null,
      "grid_gap": null,
      "grid_row": null,
      "grid_template_areas": null,
      "grid_template_columns": null,
      "grid_template_rows": null,
      "height": null,
      "justify_content": null,
      "justify_items": null,
      "left": null,
      "margin": null,
      "max_height": null,
      "max_width": null,
      "min_height": null,
      "min_width": null,
      "object_fit": null,
      "object_position": null,
      "order": null,
      "overflow": null,
      "overflow_x": null,
      "overflow_y": null,
      "padding": null,
      "right": null,
      "top": null,
      "visibility": null,
      "width": null
     }
    },
    "877f574d6fa045a78ed624cb4cfaad75": {
     "model_module": "@jupyter-widgets/controls",
     "model_module_version": "1.5.0",
     "model_name": "HTMLModel",
     "state": {
      "_dom_classes": [],
      "_model_module": "@jupyter-widgets/controls",
      "_model_module_version": "1.5.0",
      "_model_name": "HTMLModel",
      "_view_count": null,
      "_view_module": "@jupyter-widgets/controls",
      "_view_module_version": "1.5.0",
      "_view_name": "HTMLView",
      "description": "",
      "description_tooltip": null,
      "layout": "IPY_MODEL_e807afe60e71489bb62c218a694f8fa0",
      "placeholder": "​",
      "style": "IPY_MODEL_d837df40ce7f4e05bc94b3a131e582fc",
      "value": ""
     }
    },
    "8de037b14479468c92da02aa2004e07c": {
     "model_module": "@jupyter-widgets/controls",
     "model_module_version": "1.5.0",
     "model_name": "HTMLModel",
     "state": {
      "_dom_classes": [],
      "_model_module": "@jupyter-widgets/controls",
      "_model_module_version": "1.5.0",
      "_model_name": "HTMLModel",
      "_view_count": null,
      "_view_module": "@jupyter-widgets/controls",
      "_view_module_version": "1.5.0",
      "_view_name": "HTMLView",
      "description": "",
      "description_tooltip": null,
      "layout": "IPY_MODEL_ed021105d96a4c7b826de65f9d3838ff",
      "placeholder": "​",
      "style": "IPY_MODEL_4dcd44aee3194f799d578b3a7ee94d11",
      "value": " 1649664/? [00:00&lt;00:00, 4863584.30it/s]"
     }
    },
    "96c1937e97474dc68855464ee02d3c4d": {
     "model_module": "@jupyter-widgets/base",
     "model_module_version": "1.2.0",
     "model_name": "LayoutModel",
     "state": {
      "_model_module": "@jupyter-widgets/base",
      "_model_module_version": "1.2.0",
      "_model_name": "LayoutModel",
      "_view_count": null,
      "_view_module": "@jupyter-widgets/base",
      "_view_module_version": "1.2.0",
      "_view_name": "LayoutView",
      "align_content": null,
      "align_items": null,
      "align_self": null,
      "border": null,
      "bottom": null,
      "display": null,
      "flex": null,
      "flex_flow": null,
      "grid_area": null,
      "grid_auto_columns": null,
      "grid_auto_flow": null,
      "grid_auto_rows": null,
      "grid_column": null,
      "grid_gap": null,
      "grid_row": null,
      "grid_template_areas": null,
      "grid_template_columns": null,
      "grid_template_rows": null,
      "height": null,
      "justify_content": null,
      "justify_items": null,
      "left": null,
      "margin": null,
      "max_height": null,
      "max_width": null,
      "min_height": null,
      "min_width": null,
      "object_fit": null,
      "object_position": null,
      "order": null,
      "overflow": null,
      "overflow_x": null,
      "overflow_y": null,
      "padding": null,
      "right": null,
      "top": null,
      "visibility": null,
      "width": null
     }
    },
    "99af4c65ba8a4da9be59b9b4eb51f916": {
     "model_module": "@jupyter-widgets/base",
     "model_module_version": "1.2.0",
     "model_name": "LayoutModel",
     "state": {
      "_model_module": "@jupyter-widgets/base",
      "_model_module_version": "1.2.0",
      "_model_name": "LayoutModel",
      "_view_count": null,
      "_view_module": "@jupyter-widgets/base",
      "_view_module_version": "1.2.0",
      "_view_name": "LayoutView",
      "align_content": null,
      "align_items": null,
      "align_self": null,
      "border": null,
      "bottom": null,
      "display": null,
      "flex": null,
      "flex_flow": null,
      "grid_area": null,
      "grid_auto_columns": null,
      "grid_auto_flow": null,
      "grid_auto_rows": null,
      "grid_column": null,
      "grid_gap": null,
      "grid_row": null,
      "grid_template_areas": null,
      "grid_template_columns": null,
      "grid_template_rows": null,
      "height": null,
      "justify_content": null,
      "justify_items": null,
      "left": null,
      "margin": null,
      "max_height": null,
      "max_width": null,
      "min_height": null,
      "min_width": null,
      "object_fit": null,
      "object_position": null,
      "order": null,
      "overflow": null,
      "overflow_x": null,
      "overflow_y": null,
      "padding": null,
      "right": null,
      "top": null,
      "visibility": null,
      "width": null
     }
    },
    "9d65a7b29b0348bd8a6293c33f5fae1e": {
     "model_module": "@jupyter-widgets/controls",
     "model_module_version": "1.5.0",
     "model_name": "DescriptionStyleModel",
     "state": {
      "_model_module": "@jupyter-widgets/controls",
      "_model_module_version": "1.5.0",
      "_model_name": "DescriptionStyleModel",
      "_view_count": null,
      "_view_module": "@jupyter-widgets/base",
      "_view_module_version": "1.2.0",
      "_view_name": "StyleView",
      "description_width": ""
     }
    },
    "a4302fe199ad4519a64f74ae7a9fcddb": {
     "model_module": "@jupyter-widgets/base",
     "model_module_version": "1.2.0",
     "model_name": "LayoutModel",
     "state": {
      "_model_module": "@jupyter-widgets/base",
      "_model_module_version": "1.2.0",
      "_model_name": "LayoutModel",
      "_view_count": null,
      "_view_module": "@jupyter-widgets/base",
      "_view_module_version": "1.2.0",
      "_view_name": "LayoutView",
      "align_content": null,
      "align_items": null,
      "align_self": null,
      "border": null,
      "bottom": null,
      "display": null,
      "flex": null,
      "flex_flow": null,
      "grid_area": null,
      "grid_auto_columns": null,
      "grid_auto_flow": null,
      "grid_auto_rows": null,
      "grid_column": null,
      "grid_gap": null,
      "grid_row": null,
      "grid_template_areas": null,
      "grid_template_columns": null,
      "grid_template_rows": null,
      "height": null,
      "justify_content": null,
      "justify_items": null,
      "left": null,
      "margin": null,
      "max_height": null,
      "max_width": null,
      "min_height": null,
      "min_width": null,
      "object_fit": null,
      "object_position": null,
      "order": null,
      "overflow": null,
      "overflow_x": null,
      "overflow_y": null,
      "padding": null,
      "right": null,
      "top": null,
      "visibility": null,
      "width": null
     }
    },
    "a45f4d494aab45769c0816bfe6c86b23": {
     "model_module": "@jupyter-widgets/base",
     "model_module_version": "1.2.0",
     "model_name": "LayoutModel",
     "state": {
      "_model_module": "@jupyter-widgets/base",
      "_model_module_version": "1.2.0",
      "_model_name": "LayoutModel",
      "_view_count": null,
      "_view_module": "@jupyter-widgets/base",
      "_view_module_version": "1.2.0",
      "_view_name": "LayoutView",
      "align_content": null,
      "align_items": null,
      "align_self": null,
      "border": null,
      "bottom": null,
      "display": null,
      "flex": null,
      "flex_flow": null,
      "grid_area": null,
      "grid_auto_columns": null,
      "grid_auto_flow": null,
      "grid_auto_rows": null,
      "grid_column": null,
      "grid_gap": null,
      "grid_row": null,
      "grid_template_areas": null,
      "grid_template_columns": null,
      "grid_template_rows": null,
      "height": null,
      "justify_content": null,
      "justify_items": null,
      "left": null,
      "margin": null,
      "max_height": null,
      "max_width": null,
      "min_height": null,
      "min_width": null,
      "object_fit": null,
      "object_position": null,
      "order": null,
      "overflow": null,
      "overflow_x": null,
      "overflow_y": null,
      "padding": null,
      "right": null,
      "top": null,
      "visibility": null,
      "width": null
     }
    },
    "c1d2f65495014ed2afb03b07ace3dc01": {
     "model_module": "@jupyter-widgets/controls",
     "model_module_version": "1.5.0",
     "model_name": "HBoxModel",
     "state": {
      "_dom_classes": [],
      "_model_module": "@jupyter-widgets/controls",
      "_model_module_version": "1.5.0",
      "_model_name": "HBoxModel",
      "_view_count": null,
      "_view_module": "@jupyter-widgets/controls",
      "_view_module_version": "1.5.0",
      "_view_name": "HBoxView",
      "box_style": "",
      "children": [
       "IPY_MODEL_14e02bfd22d94256980c160fffe85b6f",
       "IPY_MODEL_1290cba767ff40499d87b75212aad44a",
       "IPY_MODEL_791d25d4ab9544f9ac50dc930774e5de"
      ],
      "layout": "IPY_MODEL_703e1925141e48f8b228875ee7b2ac4c"
     }
    },
    "c61ed4ab0d264828b42bb4b552263b0c": {
     "model_module": "@jupyter-widgets/controls",
     "model_module_version": "1.5.0",
     "model_name": "ProgressStyleModel",
     "state": {
      "_model_module": "@jupyter-widgets/controls",
      "_model_module_version": "1.5.0",
      "_model_name": "ProgressStyleModel",
      "_view_count": null,
      "_view_module": "@jupyter-widgets/base",
      "_view_module_version": "1.2.0",
      "_view_name": "StyleView",
      "bar_color": null,
      "description_width": ""
     }
    },
    "c9ed0de558374530b4e3db5b94e14a4c": {
     "model_module": "@jupyter-widgets/controls",
     "model_module_version": "1.5.0",
     "model_name": "HTMLModel",
     "state": {
      "_dom_classes": [],
      "_model_module": "@jupyter-widgets/controls",
      "_model_module_version": "1.5.0",
      "_model_name": "HTMLModel",
      "_view_count": null,
      "_view_module": "@jupyter-widgets/controls",
      "_view_module_version": "1.5.0",
      "_view_name": "HTMLView",
      "description": "",
      "description_tooltip": null,
      "layout": "IPY_MODEL_fe612a78e3714c7db71164a82019baf7",
      "placeholder": "​",
      "style": "IPY_MODEL_9d65a7b29b0348bd8a6293c33f5fae1e",
      "value": ""
     }
    },
    "cbb7843f022b42808280d1f267958d66": {
     "model_module": "@jupyter-widgets/controls",
     "model_module_version": "1.5.0",
     "model_name": "FloatProgressModel",
     "state": {
      "_dom_classes": [],
      "_model_module": "@jupyter-widgets/controls",
      "_model_module_version": "1.5.0",
      "_model_name": "FloatProgressModel",
      "_view_count": null,
      "_view_module": "@jupyter-widgets/controls",
      "_view_module_version": "1.5.0",
      "_view_name": "ProgressView",
      "bar_style": "success",
      "description": "",
      "description_tooltip": null,
      "layout": "IPY_MODEL_a45f4d494aab45769c0816bfe6c86b23",
      "max": 9912422,
      "min": 0,
      "orientation": "horizontal",
      "style": "IPY_MODEL_c61ed4ab0d264828b42bb4b552263b0c",
      "value": 9912422
     }
    },
    "d2b4ab182f9540e2adf4b673803abca7": {
     "model_module": "@jupyter-widgets/controls",
     "model_module_version": "1.5.0",
     "model_name": "ProgressStyleModel",
     "state": {
      "_model_module": "@jupyter-widgets/controls",
      "_model_module_version": "1.5.0",
      "_model_name": "ProgressStyleModel",
      "_view_count": null,
      "_view_module": "@jupyter-widgets/base",
      "_view_module_version": "1.2.0",
      "_view_name": "StyleView",
      "bar_color": null,
      "description_width": ""
     }
    },
    "d4175463d8334191b0ac98cfa5c56c70": {
     "model_module": "@jupyter-widgets/controls",
     "model_module_version": "1.5.0",
     "model_name": "FloatProgressModel",
     "state": {
      "_dom_classes": [],
      "_model_module": "@jupyter-widgets/controls",
      "_model_module_version": "1.5.0",
      "_model_name": "FloatProgressModel",
      "_view_count": null,
      "_view_module": "@jupyter-widgets/controls",
      "_view_module_version": "1.5.0",
      "_view_name": "ProgressView",
      "bar_style": "success",
      "description": "",
      "description_tooltip": null,
      "layout": "IPY_MODEL_2f8e57af24c841e2911ffc032b6dfedc",
      "max": 1648877,
      "min": 0,
      "orientation": "horizontal",
      "style": "IPY_MODEL_fe932ae64f19413b8c900b3c08f0db06",
      "value": 1648877
     }
    },
    "d47e7baf9c414675911e7aea2e0d255d": {
     "model_module": "@jupyter-widgets/base",
     "model_module_version": "1.2.0",
     "model_name": "LayoutModel",
     "state": {
      "_model_module": "@jupyter-widgets/base",
      "_model_module_version": "1.2.0",
      "_model_name": "LayoutModel",
      "_view_count": null,
      "_view_module": "@jupyter-widgets/base",
      "_view_module_version": "1.2.0",
      "_view_name": "LayoutView",
      "align_content": null,
      "align_items": null,
      "align_self": null,
      "border": null,
      "bottom": null,
      "display": null,
      "flex": null,
      "flex_flow": null,
      "grid_area": null,
      "grid_auto_columns": null,
      "grid_auto_flow": null,
      "grid_auto_rows": null,
      "grid_column": null,
      "grid_gap": null,
      "grid_row": null,
      "grid_template_areas": null,
      "grid_template_columns": null,
      "grid_template_rows": null,
      "height": null,
      "justify_content": null,
      "justify_items": null,
      "left": null,
      "margin": null,
      "max_height": null,
      "max_width": null,
      "min_height": null,
      "min_width": null,
      "object_fit": null,
      "object_position": null,
      "order": null,
      "overflow": null,
      "overflow_x": null,
      "overflow_y": null,
      "padding": null,
      "right": null,
      "top": null,
      "visibility": null,
      "width": null
     }
    },
    "d4eb82bd4c7d453f96260e1e1161f8dd": {
     "model_module": "@jupyter-widgets/controls",
     "model_module_version": "1.5.0",
     "model_name": "HBoxModel",
     "state": {
      "_dom_classes": [],
      "_model_module": "@jupyter-widgets/controls",
      "_model_module_version": "1.5.0",
      "_model_name": "HBoxModel",
      "_view_count": null,
      "_view_module": "@jupyter-widgets/controls",
      "_view_module_version": "1.5.0",
      "_view_name": "HBoxView",
      "box_style": "",
      "children": [
       "IPY_MODEL_877f574d6fa045a78ed624cb4cfaad75",
       "IPY_MODEL_edb57c2d0a764b04acc2af89f60b461c",
       "IPY_MODEL_6cbc02116ee84eb8871ee5e6d1a5820c"
      ],
      "layout": "IPY_MODEL_482603e9c6954824a6d713f078923c8e"
     }
    },
    "d837df40ce7f4e05bc94b3a131e582fc": {
     "model_module": "@jupyter-widgets/controls",
     "model_module_version": "1.5.0",
     "model_name": "DescriptionStyleModel",
     "state": {
      "_model_module": "@jupyter-widgets/controls",
      "_model_module_version": "1.5.0",
      "_model_name": "DescriptionStyleModel",
      "_view_count": null,
      "_view_module": "@jupyter-widgets/base",
      "_view_module_version": "1.2.0",
      "_view_name": "StyleView",
      "description_width": ""
     }
    },
    "e7aa1b6da9a34d9ca5b1020fd87b2357": {
     "model_module": "@jupyter-widgets/base",
     "model_module_version": "1.2.0",
     "model_name": "LayoutModel",
     "state": {
      "_model_module": "@jupyter-widgets/base",
      "_model_module_version": "1.2.0",
      "_model_name": "LayoutModel",
      "_view_count": null,
      "_view_module": "@jupyter-widgets/base",
      "_view_module_version": "1.2.0",
      "_view_name": "LayoutView",
      "align_content": null,
      "align_items": null,
      "align_self": null,
      "border": null,
      "bottom": null,
      "display": null,
      "flex": null,
      "flex_flow": null,
      "grid_area": null,
      "grid_auto_columns": null,
      "grid_auto_flow": null,
      "grid_auto_rows": null,
      "grid_column": null,
      "grid_gap": null,
      "grid_row": null,
      "grid_template_areas": null,
      "grid_template_columns": null,
      "grid_template_rows": null,
      "height": null,
      "justify_content": null,
      "justify_items": null,
      "left": null,
      "margin": null,
      "max_height": null,
      "max_width": null,
      "min_height": null,
      "min_width": null,
      "object_fit": null,
      "object_position": null,
      "order": null,
      "overflow": null,
      "overflow_x": null,
      "overflow_y": null,
      "padding": null,
      "right": null,
      "top": null,
      "visibility": null,
      "width": null
     }
    },
    "e807afe60e71489bb62c218a694f8fa0": {
     "model_module": "@jupyter-widgets/base",
     "model_module_version": "1.2.0",
     "model_name": "LayoutModel",
     "state": {
      "_model_module": "@jupyter-widgets/base",
      "_model_module_version": "1.2.0",
      "_model_name": "LayoutModel",
      "_view_count": null,
      "_view_module": "@jupyter-widgets/base",
      "_view_module_version": "1.2.0",
      "_view_name": "LayoutView",
      "align_content": null,
      "align_items": null,
      "align_self": null,
      "border": null,
      "bottom": null,
      "display": null,
      "flex": null,
      "flex_flow": null,
      "grid_area": null,
      "grid_auto_columns": null,
      "grid_auto_flow": null,
      "grid_auto_rows": null,
      "grid_column": null,
      "grid_gap": null,
      "grid_row": null,
      "grid_template_areas": null,
      "grid_template_columns": null,
      "grid_template_rows": null,
      "height": null,
      "justify_content": null,
      "justify_items": null,
      "left": null,
      "margin": null,
      "max_height": null,
      "max_width": null,
      "min_height": null,
      "min_width": null,
      "object_fit": null,
      "object_position": null,
      "order": null,
      "overflow": null,
      "overflow_x": null,
      "overflow_y": null,
      "padding": null,
      "right": null,
      "top": null,
      "visibility": null,
      "width": null
     }
    },
    "ed021105d96a4c7b826de65f9d3838ff": {
     "model_module": "@jupyter-widgets/base",
     "model_module_version": "1.2.0",
     "model_name": "LayoutModel",
     "state": {
      "_model_module": "@jupyter-widgets/base",
      "_model_module_version": "1.2.0",
      "_model_name": "LayoutModel",
      "_view_count": null,
      "_view_module": "@jupyter-widgets/base",
      "_view_module_version": "1.2.0",
      "_view_name": "LayoutView",
      "align_content": null,
      "align_items": null,
      "align_self": null,
      "border": null,
      "bottom": null,
      "display": null,
      "flex": null,
      "flex_flow": null,
      "grid_area": null,
      "grid_auto_columns": null,
      "grid_auto_flow": null,
      "grid_auto_rows": null,
      "grid_column": null,
      "grid_gap": null,
      "grid_row": null,
      "grid_template_areas": null,
      "grid_template_columns": null,
      "grid_template_rows": null,
      "height": null,
      "justify_content": null,
      "justify_items": null,
      "left": null,
      "margin": null,
      "max_height": null,
      "max_width": null,
      "min_height": null,
      "min_width": null,
      "object_fit": null,
      "object_position": null,
      "order": null,
      "overflow": null,
      "overflow_x": null,
      "overflow_y": null,
      "padding": null,
      "right": null,
      "top": null,
      "visibility": null,
      "width": null
     }
    },
    "edb57c2d0a764b04acc2af89f60b461c": {
     "model_module": "@jupyter-widgets/controls",
     "model_module_version": "1.5.0",
     "model_name": "FloatProgressModel",
     "state": {
      "_dom_classes": [],
      "_model_module": "@jupyter-widgets/controls",
      "_model_module_version": "1.5.0",
      "_model_name": "FloatProgressModel",
      "_view_count": null,
      "_view_module": "@jupyter-widgets/controls",
      "_view_module_version": "1.5.0",
      "_view_name": "ProgressView",
      "bar_style": "success",
      "description": "",
      "description_tooltip": null,
      "layout": "IPY_MODEL_687721205c6f4c938eb638729a336164",
      "max": 4542,
      "min": 0,
      "orientation": "horizontal",
      "style": "IPY_MODEL_14a6c32291e54d08b3ccdbbafc169e1a",
      "value": 4542
     }
    },
    "eeafd04311404526bf892c9477f19dee": {
     "model_module": "@jupyter-widgets/controls",
     "model_module_version": "1.5.0",
     "model_name": "HBoxModel",
     "state": {
      "_dom_classes": [],
      "_model_module": "@jupyter-widgets/controls",
      "_model_module_version": "1.5.0",
      "_model_name": "HBoxModel",
      "_view_count": null,
      "_view_module": "@jupyter-widgets/controls",
      "_view_module_version": "1.5.0",
      "_view_name": "HBoxView",
      "box_style": "",
      "children": [
       "IPY_MODEL_4b2b3e8ceb4e4b19b5442207cdcc3cf0",
       "IPY_MODEL_d4175463d8334191b0ac98cfa5c56c70",
       "IPY_MODEL_8de037b14479468c92da02aa2004e07c"
      ],
      "layout": "IPY_MODEL_0f7e097bebae4e2eb525617958de6a98"
     }
    },
    "fe612a78e3714c7db71164a82019baf7": {
     "model_module": "@jupyter-widgets/base",
     "model_module_version": "1.2.0",
     "model_name": "LayoutModel",
     "state": {
      "_model_module": "@jupyter-widgets/base",
      "_model_module_version": "1.2.0",
      "_model_name": "LayoutModel",
      "_view_count": null,
      "_view_module": "@jupyter-widgets/base",
      "_view_module_version": "1.2.0",
      "_view_name": "LayoutView",
      "align_content": null,
      "align_items": null,
      "align_self": null,
      "border": null,
      "bottom": null,
      "display": null,
      "flex": null,
      "flex_flow": null,
      "grid_area": null,
      "grid_auto_columns": null,
      "grid_auto_flow": null,
      "grid_auto_rows": null,
      "grid_column": null,
      "grid_gap": null,
      "grid_row": null,
      "grid_template_areas": null,
      "grid_template_columns": null,
      "grid_template_rows": null,
      "height": null,
      "justify_content": null,
      "justify_items": null,
      "left": null,
      "margin": null,
      "max_height": null,
      "max_width": null,
      "min_height": null,
      "min_width": null,
      "object_fit": null,
      "object_position": null,
      "order": null,
      "overflow": null,
      "overflow_x": null,
      "overflow_y": null,
      "padding": null,
      "right": null,
      "top": null,
      "visibility": null,
      "width": null
     }
    },
    "fe932ae64f19413b8c900b3c08f0db06": {
     "model_module": "@jupyter-widgets/controls",
     "model_module_version": "1.5.0",
     "model_name": "ProgressStyleModel",
     "state": {
      "_model_module": "@jupyter-widgets/controls",
      "_model_module_version": "1.5.0",
      "_model_name": "ProgressStyleModel",
      "_view_count": null,
      "_view_module": "@jupyter-widgets/base",
      "_view_module_version": "1.2.0",
      "_view_name": "StyleView",
      "bar_color": null,
      "description_width": ""
     }
    }
   }
  }
 },
 "nbformat": 4,
 "nbformat_minor": 1
}

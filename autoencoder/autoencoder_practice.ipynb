{
 "cells": [
  {
   "cell_type": "markdown",
   "metadata": {},
   "source": [
    "references : https://www.youtube.com/watch?v=J0YcBKmLfbA&list=PLLENHvsRRLjDHllrXj0B8sz5-4xVbisBL&index=9"
   ]
  },
  {
   "cell_type": "markdown",
   "metadata": {
    "colab_type": "text",
    "id": "qFoq-khqMAh7"
   },
   "source": [
    "# Autoencoder"
   ]
  },
  {
   "cell_type": "markdown",
   "metadata": {
    "colab_type": "text",
    "id": "XXpqf4nGMAh8"
   },
   "source": [
    "## 1. Settings"
   ]
  },
  {
   "cell_type": "markdown",
   "metadata": {
    "colab_type": "text",
    "id": "cuiAb_LX2QiB"
   },
   "source": [
    "### 1) Import required libraries"
   ]
  },
  {
   "cell_type": "code",
   "execution_count": 2,
   "metadata": {},
   "outputs": [],
   "source": [
    "# !pip install torch\n",
    "# !pip install torchvision"
   ]
  },
  {
   "cell_type": "code",
   "execution_count": 2,
   "metadata": {
    "colab": {},
    "colab_type": "code",
    "id": "gOFx3VQpMAh-"
   },
   "outputs": [],
   "source": [
    "import numpy as np\n",
    "import torch\n",
    "import torch.nn as nn\n",
    "# 신경망 모델의 base class\n",
    "# (layer 종류: nn.Linear,nn.Bilinear,nn.Fold,nn.RNN)\n",
    "# (activation function 종류 : nn.Sigmoid, nn.ReLU, nn.LeakyReLU, nn.Softmin)\n",
    "import torch.optim as optim\n",
    "# 최적화 알고리즘 구현 패키지 (ex: optim.SGD, optim.Adam .. )\n",
    "import torch.nn.init as init\n",
    "import torchvision.datasets as dset\n",
    "# torchvision : pytorch와 함께 사용되는 computer vision용 라이브러리 (이미지, 비디오 변환을 위한 유틸리티 및 일부 데이터 셋 제공)\n",
    "import torchvision.transforms as transforms\n",
    "from torch.utils.data import DataLoader\n",
    "import matplotlib.pyplot as plt\n",
    "import matplotlib as mpl"
   ]
  },
  {
   "cell_type": "markdown",
   "metadata": {
    "colab_type": "text",
    "id": "OBDG968zMAiC"
   },
   "source": [
    "### 2) Set hyperparameters"
   ]
  },
  {
   "cell_type": "code",
   "execution_count": 3,
   "metadata": {
    "colab": {},
    "colab_type": "code",
    "id": "oxPTgvcjMAiD"
   },
   "outputs": [],
   "source": [
    "batch_size = 256\n",
    "learning_rate = 0.0002\n",
    "num_epochs = 10"
   ]
  },
  {
   "cell_type": "markdown",
   "metadata": {},
   "source": [
    "- batch_size : 몇개의 관측치에 대한 예측을 하고, 레이블 값과 비교를 하는지를 설정하는 파라미터\n",
    "    - 배치사이즈가 100이면 전체 데이터에 대해 모두 예측한 뒤 실제 레이블 값과 비교한 후 가중치를 갱신\n",
    "- epochs : 하나의 데이터셋을 몇 번 반복 학습할 지 정하는 파라미터\n",
    "    - 너무 많은 epochs는 overfitting을 야기한다."
   ]
  },
  {
   "cell_type": "markdown",
   "metadata": {},
   "source": [
    "조금 더 쉽게 말하면, 1000개의 데이터가 있는데 batch_size = 10으로 설정 한다해보자.\n",
    "그러면 총 10개의 batch가 그룹을 이뤄서 예측이 진행되고, 100번의 step을 통해 1epoch를 도는 것이다. 즉, 1epoch(학습1번) = 10(batch_size) * 100(step or iteration)\n",
    "(batch_size가 커지면 한번에 많은양을 학습하므로 train 과정은 빨라지지만, 컴퓨터의 메모리 문제때문에 한계가 있다.)"
   ]
  },
  {
   "cell_type": "markdown",
   "metadata": {
    "colab_type": "text",
    "id": "7uaV_HtJMAiG"
   },
   "source": [
    "## 2. Data"
   ]
  },
  {
   "cell_type": "markdown",
   "metadata": {
    "colab_type": "text",
    "id": "yeRww6jr2iZd"
   },
   "source": [
    "### 1) Download Data"
   ]
  },
  {
   "cell_type": "code",
   "execution_count": 4,
   "metadata": {
    "colab": {
     "base_uri": "https://localhost:8080/",
     "height": 386,
     "referenced_widgets": [
      "84ccbf2fdabf41779a21d5f828abb4d9",
      "0e5f9e8da5f84e329dda0a86ed5f99d1",
      "89cb2c234096474eb00c67b9e1ff1280",
      "5829cbf368794c76bf59fbbc001892a6",
      "845d0016d9364b91b7796fe2d580d89c",
      "7f142ce7b22f4bf59b768539e8f5ef0d",
      "24e2a92a91894cfca8a57076f2b57388",
      "53ce7ae1d36044a894d2c0d9878570c1",
      "25483d509e2a4a099899aa9dd7eb1c9f",
      "5a0e7d2b1c804f8ca273551f493bb8c3",
      "d51963b5b6c546acb14429a3f21f0776",
      "f4af4502e55c40f2bf655ebf16647620",
      "d6d69312c63f4d4280280e29ab4d57ed",
      "4881aaf70ec54f2a8f950ecd548f73a8",
      "c691c910818a4f24b5e2d4e3a683ea91",
      "4c8497e5f2d946d492770a985b6d8c70",
      "438a52eeb8f24eabb36625e7aeb44f5e",
      "1efaaa8032a046b28f6ad523791a999d",
      "e02e4f0da4fa4d00b10e912b31f75fbb",
      "ec31753211dd443aa4b8498b2f9927d9",
      "452a7a6e2d514ca3b6eae182e8b28006",
      "f25ba04408584d9493857cd744217bf7",
      "45124e2b77604dfbb33d4bed5103cd97",
      "ee05ce12e0244e7b9cc7fdac30885399",
      "788dc6bad89040b4a4027e4c97be8e35",
      "d57d7215df0040c78f59cb195a8c000f",
      "8723625afecc4fb1a95c56dba2707710",
      "5e662097643d48faba2e242ed43e6907",
      "0c0e15e01ec54445950f065fa4af1218",
      "07b3a11fa2a1443db390e3e49a97ef99",
      "9e16d113b12f4d1b875fc13ee145a67a",
      "03749c543ac94f92afa6326f8409a79b"
     ]
    },
    "colab_type": "code",
    "executionInfo": {
     "elapsed": 7320,
     "status": "ok",
     "timestamp": 1600624780367,
     "user": {
      "displayName": "Woncheol Shin",
      "photoUrl": "",
      "userId": "08310100070658885752"
     },
     "user_tz": -540
    },
    "id": "he-GrlguMAiG",
    "outputId": "70bfc578-6463-4b7e-e00d-62db0705893d"
   },
   "outputs": [],
   "source": [
    "mnist_train = dset.MNIST(\"./\", train=True, transform=transforms.ToTensor(), target_transform=None, download=True)\n",
    "mnist_test = dset.MNIST(\"./\", train=False, transform=transforms.ToTensor(), target_transform=None, download=True)\n",
    "mnist_train, mnist_val = torch.utils.data.random_split(mnist_train, [50000, 10000]) # [50000, 10000] => [train_size, test_size]]"
   ]
  },
  {
   "cell_type": "code",
   "execution_count": 5,
   "metadata": {
    "colab": {
     "base_uri": "https://localhost:8080/",
     "height": 34
    },
    "colab_type": "code",
    "executionInfo": {
     "elapsed": 7311,
     "status": "ok",
     "timestamp": 1600624780368,
     "user": {
      "displayName": "Woncheol Shin",
      "photoUrl": "",
      "userId": "08310100070658885752"
     },
     "user_tz": -540
    },
    "id": "w2flOQIh3Mu_",
    "outputId": "9a570a95-b531-432e-d68e-9d6267d5854c"
   },
   "outputs": [
    {
     "data": {
      "text/plain": [
       "torch.Size([1, 28, 28])"
      ]
     },
     "execution_count": 5,
     "metadata": {},
     "output_type": "execute_result"
    }
   ],
   "source": [
    "mnist_train[0][0].size()    # (1, 28, 28)"
   ]
  },
  {
   "cell_type": "code",
   "execution_count": 6,
   "metadata": {
    "colab": {
     "base_uri": "https://localhost:8080/",
     "height": 34
    },
    "colab_type": "code",
    "executionInfo": {
     "elapsed": 7303,
     "status": "ok",
     "timestamp": 1600624780369,
     "user": {
      "displayName": "Woncheol Shin",
      "photoUrl": "",
      "userId": "08310100070658885752"
     },
     "user_tz": -540
    },
    "id": "VFezXtf51OH_",
    "outputId": "da1899da-83c8-4de6-cce8-9c21d3f35685"
   },
   "outputs": [
    {
     "data": {
      "text/plain": [
       "4"
      ]
     },
     "execution_count": 6,
     "metadata": {},
     "output_type": "execute_result"
    }
   ],
   "source": [
    "mnist_train[0][1]          # label : mnist_train[0]이 의미하는 숫자"
   ]
  },
  {
   "cell_type": "markdown",
   "metadata": {
    "colab_type": "text",
    "id": "rKz97cYDMAiJ"
   },
   "source": [
    "### 2) Set DataLoader"
   ]
  },
  {
   "cell_type": "code",
   "execution_count": 7,
   "metadata": {
    "colab": {},
    "colab_type": "code",
    "id": "a2YVorheoJKR"
   },
   "outputs": [],
   "source": [
    "dataloaders = {}\n",
    "dataloaders['train'] = DataLoader(mnist_train, batch_size=batch_size, shuffle=True)\n",
    "dataloaders['val'] = DataLoader(mnist_val, batch_size=batch_size, shuffle=False)\n",
    "dataloaders['test'] = DataLoader(mnist_test, batch_size=batch_size, shuffle=False)"
   ]
  },
  {
   "cell_type": "code",
   "execution_count": 12,
   "metadata": {
    "colab": {
     "base_uri": "https://localhost:8080/",
     "height": 34
    },
    "colab_type": "code",
    "executionInfo": {
     "elapsed": 7291,
     "status": "ok",
     "timestamp": 1600624780371,
     "user": {
      "displayName": "Woncheol Shin",
      "photoUrl": "",
      "userId": "08310100070658885752"
     },
     "user_tz": -540
    },
    "id": "V83NRcPjaE1t",
    "outputId": "1582762c-3517-443e-8964-5f7587841772"
   },
   "outputs": [
    {
     "name": "stdout",
     "output_type": "stream",
     "text": [
      "196\n",
      "40\n",
      "40\n",
      "1 번째 step을 보고 계십니다.\n",
      "data는 이렇게 생겼습니다.\n",
      "[tensor([[[[0., 0., 0.,  ..., 0., 0., 0.],\n",
      "          [0., 0., 0.,  ..., 0., 0., 0.],\n",
      "          [0., 0., 0.,  ..., 0., 0., 0.],\n",
      "          ...,\n",
      "          [0., 0., 0.,  ..., 0., 0., 0.],\n",
      "          [0., 0., 0.,  ..., 0., 0., 0.],\n",
      "          [0., 0., 0.,  ..., 0., 0., 0.]]],\n",
      "\n",
      "\n",
      "        [[[0., 0., 0.,  ..., 0., 0., 0.],\n",
      "          [0., 0., 0.,  ..., 0., 0., 0.],\n",
      "          [0., 0., 0.,  ..., 0., 0., 0.],\n",
      "          ...,\n",
      "          [0., 0., 0.,  ..., 0., 0., 0.],\n",
      "          [0., 0., 0.,  ..., 0., 0., 0.],\n",
      "          [0., 0., 0.,  ..., 0., 0., 0.]]],\n",
      "\n",
      "\n",
      "        [[[0., 0., 0.,  ..., 0., 0., 0.],\n",
      "          [0., 0., 0.,  ..., 0., 0., 0.],\n",
      "          [0., 0., 0.,  ..., 0., 0., 0.],\n",
      "          ...,\n",
      "          [0., 0., 0.,  ..., 0., 0., 0.],\n",
      "          [0., 0., 0.,  ..., 0., 0., 0.],\n",
      "          [0., 0., 0.,  ..., 0., 0., 0.]]],\n",
      "\n",
      "\n",
      "        ...,\n",
      "\n",
      "\n",
      "        [[[0., 0., 0.,  ..., 0., 0., 0.],\n",
      "          [0., 0., 0.,  ..., 0., 0., 0.],\n",
      "          [0., 0., 0.,  ..., 0., 0., 0.],\n",
      "          ...,\n",
      "          [0., 0., 0.,  ..., 0., 0., 0.],\n",
      "          [0., 0., 0.,  ..., 0., 0., 0.],\n",
      "          [0., 0., 0.,  ..., 0., 0., 0.]]],\n",
      "\n",
      "\n",
      "        [[[0., 0., 0.,  ..., 0., 0., 0.],\n",
      "          [0., 0., 0.,  ..., 0., 0., 0.],\n",
      "          [0., 0., 0.,  ..., 0., 0., 0.],\n",
      "          ...,\n",
      "          [0., 0., 0.,  ..., 0., 0., 0.],\n",
      "          [0., 0., 0.,  ..., 0., 0., 0.],\n",
      "          [0., 0., 0.,  ..., 0., 0., 0.]]],\n",
      "\n",
      "\n",
      "        [[[0., 0., 0.,  ..., 0., 0., 0.],\n",
      "          [0., 0., 0.,  ..., 0., 0., 0.],\n",
      "          [0., 0., 0.,  ..., 0., 0., 0.],\n",
      "          ...,\n",
      "          [0., 0., 0.,  ..., 0., 0., 0.],\n",
      "          [0., 0., 0.,  ..., 0., 0., 0.],\n",
      "          [0., 0., 0.,  ..., 0., 0., 0.]]]]), tensor([6, 9, 6, 2, 0, 7, 0, 1, 2, 0, 5, 7, 3, 0, 1, 0, 1, 5, 5, 5, 3, 1, 3, 7,\n",
      "        3, 1, 7, 9, 1, 3, 1, 0, 0, 3, 9, 2, 7, 7, 6, 5, 3, 3, 6, 1, 8, 1, 5, 4,\n",
      "        1, 3, 7, 6, 3, 2, 7, 6, 9, 8, 4, 3, 6, 9, 2, 5, 1, 3, 1, 1, 3, 3, 8, 8,\n",
      "        2, 3, 2, 6, 5, 7, 6, 7, 5, 0, 5, 7, 3, 4, 5, 7, 2, 3, 7, 5, 5, 6, 8, 3,\n",
      "        0, 5, 4, 0, 4, 5, 4, 6, 0, 2, 8, 1, 9, 2, 1, 9, 4, 3, 3, 7, 9, 2, 7, 0,\n",
      "        9, 5, 2, 5, 8, 0, 1, 8, 1, 6, 5, 9, 9, 4, 9, 8, 6, 2, 8, 2, 1, 8, 3, 7,\n",
      "        0, 7, 6, 0, 5, 3, 6, 3, 3, 3, 8, 4, 9, 0, 7, 4, 6, 2, 4, 8, 4, 5, 1, 4,\n",
      "        3, 9, 4, 3, 4, 2, 5, 0, 7, 9, 6, 4, 0, 1, 8, 2, 1, 6, 9, 8, 5, 0, 1, 5,\n",
      "        2, 0, 4, 1, 6, 6, 6, 1, 5, 7, 8, 5, 9, 6, 2, 8, 9, 8, 6, 7, 2, 0, 8, 0,\n",
      "        2, 2, 4, 6, 5, 1, 3, 6, 2, 3, 4, 4, 6, 2, 8, 6, 2, 8, 9, 0, 8, 7, 2, 4,\n",
      "        6, 9, 1, 1, 5, 8, 3, 5, 1, 0, 0, 0, 1, 8, 4, 8])]\n",
      "data를 더 자세히 보면\n",
      "tensor([[0.0000, 0.0000, 0.0000, 0.0000, 0.0000, 0.0000, 0.0000, 0.0000, 0.0000,\n",
      "         0.0000, 0.0000, 0.0000, 0.0000, 0.0000, 0.0000, 0.0000, 0.0000, 0.0000,\n",
      "         0.0000, 0.0000, 0.0000, 0.0000, 0.0000, 0.0000, 0.0000, 0.0000, 0.0000,\n",
      "         0.0000],\n",
      "        [0.0000, 0.0000, 0.0000, 0.0000, 0.0000, 0.0000, 0.0000, 0.0000, 0.0000,\n",
      "         0.0000, 0.0000, 0.0000, 0.0000, 0.0000, 0.0000, 0.0000, 0.0000, 0.0000,\n",
      "         0.0000, 0.0000, 0.0000, 0.0000, 0.0000, 0.0000, 0.0000, 0.0000, 0.0000,\n",
      "         0.0000],\n",
      "        [0.0000, 0.0000, 0.0000, 0.0000, 0.0000, 0.0000, 0.0000, 0.0000, 0.0000,\n",
      "         0.0000, 0.0000, 0.0000, 0.0000, 0.0000, 0.0000, 0.0000, 0.0000, 0.0431,\n",
      "         0.5569, 1.0000, 0.3294, 0.0000, 0.0000, 0.0000, 0.0000, 0.0000, 0.0000,\n",
      "         0.0000],\n",
      "        [0.0000, 0.0000, 0.0000, 0.0000, 0.0000, 0.0000, 0.0000, 0.0000, 0.0000,\n",
      "         0.0000, 0.0000, 0.0000, 0.0000, 0.0000, 0.0000, 0.0000, 0.0000, 0.6824,\n",
      "         0.9961, 0.8118, 0.0980, 0.0000, 0.0000, 0.0000, 0.0000, 0.0000, 0.0000,\n",
      "         0.0000],\n",
      "        [0.0000, 0.0000, 0.0000, 0.0000, 0.0000, 0.0000, 0.0000, 0.0000, 0.0000,\n",
      "         0.0000, 0.0000, 0.0000, 0.0000, 0.0000, 0.0000, 0.0235, 0.4745, 0.9765,\n",
      "         0.8314, 0.0902, 0.0000, 0.0000, 0.0000, 0.0000, 0.0000, 0.0000, 0.0000,\n",
      "         0.0000],\n",
      "        [0.0000, 0.0000, 0.0000, 0.0000, 0.0000, 0.0000, 0.0000, 0.0000, 0.0000,\n",
      "         0.0000, 0.0000, 0.0000, 0.0000, 0.0000, 0.0000, 0.3725, 0.9961, 0.9961,\n",
      "         0.3529, 0.0000, 0.0000, 0.0000, 0.0000, 0.0000, 0.0000, 0.0000, 0.0000,\n",
      "         0.0000],\n",
      "        [0.0000, 0.0000, 0.0000, 0.0000, 0.0000, 0.0000, 0.0000, 0.0000, 0.0000,\n",
      "         0.0000, 0.0000, 0.0000, 0.0000, 0.0000, 0.0902, 0.8980, 0.9961, 0.6353,\n",
      "         0.0314, 0.0000, 0.0000, 0.0000, 0.0000, 0.0000, 0.0000, 0.0000, 0.0000,\n",
      "         0.0000],\n",
      "        [0.0000, 0.0000, 0.0000, 0.0000, 0.0000, 0.0000, 0.0000, 0.0000, 0.0000,\n",
      "         0.0000, 0.0000, 0.0000, 0.0000, 0.0000, 0.4627, 0.9961, 0.9961, 0.0745,\n",
      "         0.0000, 0.0000, 0.0000, 0.0000, 0.0000, 0.0000, 0.0000, 0.0000, 0.0000,\n",
      "         0.0000],\n",
      "        [0.0000, 0.0000, 0.0000, 0.0000, 0.0000, 0.0000, 0.0000, 0.0000, 0.0000,\n",
      "         0.0000, 0.0000, 0.0000, 0.0000, 0.2706, 0.9608, 0.9843, 0.4196, 0.0039,\n",
      "         0.0000, 0.0000, 0.0000, 0.0000, 0.0000, 0.0000, 0.0000, 0.0000, 0.0000,\n",
      "         0.0000],\n",
      "        [0.0000, 0.0000, 0.0000, 0.0000, 0.0000, 0.0000, 0.0000, 0.0000, 0.0000,\n",
      "         0.0000, 0.0000, 0.0000, 0.2353, 0.9451, 0.9961, 0.7373, 0.0000, 0.0000,\n",
      "         0.0000, 0.0000, 0.0000, 0.0000, 0.0000, 0.0000, 0.0000, 0.0000, 0.0000,\n",
      "         0.0000],\n",
      "        [0.0000, 0.0000, 0.0000, 0.0000, 0.0000, 0.0000, 0.0000, 0.0000, 0.0000,\n",
      "         0.0000, 0.0000, 0.0000, 0.7137, 0.9961, 0.8627, 0.0588, 0.0000, 0.0000,\n",
      "         0.0000, 0.0000, 0.0000, 0.0000, 0.0000, 0.0000, 0.0000, 0.0000, 0.0000,\n",
      "         0.0000],\n",
      "        [0.0000, 0.0000, 0.0000, 0.0000, 0.0000, 0.0000, 0.0000, 0.0000, 0.0000,\n",
      "         0.0000, 0.0000, 0.1922, 0.9216, 0.9961, 0.8431, 0.0353, 0.0000, 0.0000,\n",
      "         0.0000, 0.0000, 0.0000, 0.0000, 0.0000, 0.0000, 0.0000, 0.0000, 0.0000,\n",
      "         0.0000],\n",
      "        [0.0000, 0.0000, 0.0000, 0.0000, 0.0000, 0.0000, 0.0000, 0.0000, 0.0000,\n",
      "         0.0000, 0.0000, 0.6039, 0.9961, 0.9961, 0.9961, 0.6588, 0.0196, 0.0000,\n",
      "         0.0000, 0.0000, 0.0000, 0.0000, 0.0000, 0.0000, 0.0000, 0.0000, 0.0000,\n",
      "         0.0000],\n",
      "        [0.0000, 0.0000, 0.0000, 0.0000, 0.0000, 0.0000, 0.0000, 0.0000, 0.0000,\n",
      "         0.0000, 0.3490, 0.9843, 0.9961, 0.6627, 0.8431, 0.9961, 0.7765, 0.6118,\n",
      "         0.3020, 0.1020, 0.0000, 0.0000, 0.0000, 0.0000, 0.0000, 0.0000, 0.0000,\n",
      "         0.0000],\n",
      "        [0.0000, 0.0000, 0.0000, 0.0000, 0.0000, 0.0000, 0.0000, 0.0000, 0.0000,\n",
      "         0.0000, 0.7137, 0.9961, 0.7176, 0.0235, 0.1137, 0.8275, 0.9961, 0.9961,\n",
      "         0.9961, 0.6980, 0.0510, 0.0000, 0.0000, 0.0000, 0.0000, 0.0000, 0.0000,\n",
      "         0.0000],\n",
      "        [0.0000, 0.0000, 0.0000, 0.0000, 0.0000, 0.0000, 0.0000, 0.0000, 0.0000,\n",
      "         0.2353, 0.9373, 0.9961, 0.3882, 0.0000, 0.0000, 0.0902, 0.4627, 0.5804,\n",
      "         0.9098, 0.9961, 0.2510, 0.0000, 0.0000, 0.0000, 0.0000, 0.0000, 0.0000,\n",
      "         0.0000],\n",
      "        [0.0000, 0.0000, 0.0000, 0.0000, 0.0000, 0.0000, 0.0000, 0.0000, 0.0000,\n",
      "         0.7216, 0.9961, 0.7490, 0.0588, 0.0000, 0.0000, 0.0000, 0.0000, 0.0000,\n",
      "         0.7922, 0.9961, 0.4706, 0.0000, 0.0000, 0.0000, 0.0000, 0.0000, 0.0000,\n",
      "         0.0000],\n",
      "        [0.0000, 0.0000, 0.0000, 0.0000, 0.0000, 0.0000, 0.0000, 0.0000, 0.0000,\n",
      "         0.8471, 0.9961, 0.4118, 0.0000, 0.0000, 0.0000, 0.0000, 0.0000, 0.0275,\n",
      "         0.8196, 0.9961, 0.4706, 0.0000, 0.0000, 0.0000, 0.0000, 0.0000, 0.0000,\n",
      "         0.0000],\n",
      "        [0.0000, 0.0000, 0.0000, 0.0000, 0.0000, 0.0000, 0.0000, 0.0000, 0.0000,\n",
      "         0.8471, 0.9961, 0.4118, 0.0000, 0.0000, 0.0000, 0.0118, 0.2784, 0.7843,\n",
      "         0.9961, 0.8745, 0.1412, 0.0000, 0.0000, 0.0000, 0.0000, 0.0000, 0.0000,\n",
      "         0.0000],\n",
      "        [0.0000, 0.0000, 0.0000, 0.0000, 0.0000, 0.0000, 0.0000, 0.0000, 0.0000,\n",
      "         0.8471, 0.9961, 0.7059, 0.2667, 0.2667, 0.3373, 0.7922, 0.9961, 0.9961,\n",
      "         0.8706, 0.1216, 0.0000, 0.0000, 0.0000, 0.0000, 0.0000, 0.0000, 0.0000,\n",
      "         0.0000],\n",
      "        [0.0000, 0.0000, 0.0000, 0.0000, 0.0000, 0.0000, 0.0000, 0.0000, 0.0000,\n",
      "         0.3216, 0.9961, 0.9961, 0.9961, 0.9961, 0.9961, 0.9961, 0.9529, 0.5137,\n",
      "         0.1412, 0.0000, 0.0000, 0.0000, 0.0000, 0.0000, 0.0000, 0.0000, 0.0000,\n",
      "         0.0000],\n",
      "        [0.0000, 0.0000, 0.0000, 0.0000, 0.0000, 0.0000, 0.0000, 0.0000, 0.0000,\n",
      "         0.0235, 0.6392, 0.9961, 0.9961, 0.8745, 0.6157, 0.4549, 0.1686, 0.0000,\n",
      "         0.0000, 0.0000, 0.0000, 0.0000, 0.0000, 0.0000, 0.0000, 0.0000, 0.0000,\n",
      "         0.0000],\n",
      "        [0.0000, 0.0000, 0.0000, 0.0000, 0.0000, 0.0000, 0.0000, 0.0000, 0.0000,\n",
      "         0.0000, 0.0000, 0.0000, 0.0000, 0.0000, 0.0000, 0.0000, 0.0000, 0.0000,\n",
      "         0.0000, 0.0000, 0.0000, 0.0000, 0.0000, 0.0000, 0.0000, 0.0000, 0.0000,\n",
      "         0.0000],\n",
      "        [0.0000, 0.0000, 0.0000, 0.0000, 0.0000, 0.0000, 0.0000, 0.0000, 0.0000,\n",
      "         0.0000, 0.0000, 0.0000, 0.0000, 0.0000, 0.0000, 0.0000, 0.0000, 0.0000,\n",
      "         0.0000, 0.0000, 0.0000, 0.0000, 0.0000, 0.0000, 0.0000, 0.0000, 0.0000,\n",
      "         0.0000],\n",
      "        [0.0000, 0.0000, 0.0000, 0.0000, 0.0000, 0.0000, 0.0000, 0.0000, 0.0000,\n",
      "         0.0000, 0.0000, 0.0000, 0.0000, 0.0000, 0.0000, 0.0000, 0.0000, 0.0000,\n",
      "         0.0000, 0.0000, 0.0000, 0.0000, 0.0000, 0.0000, 0.0000, 0.0000, 0.0000,\n",
      "         0.0000],\n",
      "        [0.0000, 0.0000, 0.0000, 0.0000, 0.0000, 0.0000, 0.0000, 0.0000, 0.0000,\n",
      "         0.0000, 0.0000, 0.0000, 0.0000, 0.0000, 0.0000, 0.0000, 0.0000, 0.0000,\n",
      "         0.0000, 0.0000, 0.0000, 0.0000, 0.0000, 0.0000, 0.0000, 0.0000, 0.0000,\n",
      "         0.0000],\n",
      "        [0.0000, 0.0000, 0.0000, 0.0000, 0.0000, 0.0000, 0.0000, 0.0000, 0.0000,\n",
      "         0.0000, 0.0000, 0.0000, 0.0000, 0.0000, 0.0000, 0.0000, 0.0000, 0.0000,\n",
      "         0.0000, 0.0000, 0.0000, 0.0000, 0.0000, 0.0000, 0.0000, 0.0000, 0.0000,\n",
      "         0.0000],\n",
      "        [0.0000, 0.0000, 0.0000, 0.0000, 0.0000, 0.0000, 0.0000, 0.0000, 0.0000,\n",
      "         0.0000, 0.0000, 0.0000, 0.0000, 0.0000, 0.0000, 0.0000, 0.0000, 0.0000,\n",
      "         0.0000, 0.0000, 0.0000, 0.0000, 0.0000, 0.0000, 0.0000, 0.0000, 0.0000,\n",
      "         0.0000]])\n",
      "len(data[0]) :  256\n",
      "len(data[1]) :  256\n"
     ]
    }
   ],
   "source": [
    "print(len(dataloaders[\"train\"])) # 196\n",
    "print(len(dataloaders[\"val\"])) # 40\n",
    "print(len(dataloaders[\"test\"])) # 40\n",
    "answer=0\n",
    "for n,data in enumerate(dataloaders['train']):\n",
    "    if n == 1:\n",
    "        break\n",
    "    print(n+1,'번째 step을 보고 계십니다.')\n",
    "    print('data는 이렇게 생겼습니다.')\n",
    "    print(data)\n",
    "    print('data를 더 자세히 보면')\n",
    "    print(data[0][0][0]) # 4차원 데이터임을 알 수 있다.\n",
    "    print('len(data[0]) : ',len(data[0])) # data[0]은 vector값\n",
    "    print('len(data[1]) : ',len(data[1])) # data[1]은 label값\n",
    "    answer+=1"
   ]
  },
  {
   "cell_type": "markdown",
   "metadata": {},
   "source": [
    "Custom dataset / dataloader는 왜 필요한가\n",
    "- 많은 양의 datga를 한번에 불러와 모델을 학습시키면 메모리가 부족 할 수 있기 때문에 custom dataset을 따로 만드는 것이다.\n",
    "- 또한 input은 길이가 변하기 때문에 batch를 만들기 위해서는 Dataloader를 통해 mini batch를 만들어줘야한다."
   ]
  },
  {
   "cell_type": "markdown",
   "metadata": {
    "colab_type": "text",
    "id": "gWlU96lLMAiM"
   },
   "source": [
    "## 3. Model & Optimizer"
   ]
  },
  {
   "cell_type": "markdown",
   "metadata": {
    "colab_type": "text",
    "id": "vZjl2GHl5gj8"
   },
   "source": [
    "### 1) Model"
   ]
  },
  {
   "cell_type": "code",
   "execution_count": 13,
   "metadata": {
    "colab": {
     "base_uri": "https://localhost:8080/",
     "height": 34
    },
    "colab_type": "code",
    "executionInfo": {
     "elapsed": 7282,
     "status": "ok",
     "timestamp": 1600624780372,
     "user": {
      "displayName": "Woncheol Shin",
      "photoUrl": "",
      "userId": "08310100070658885752"
     },
     "user_tz": -540
    },
    "id": "mTd6rSIFMAiN",
    "outputId": "a1040c10-c266-45d2-cfb7-3e2211b0971a"
   },
   "outputs": [],
   "source": [
    "# in my case: 784(28*28) -> 100 -> 30 -> 100 -> 784(28*28)\n",
    "\n",
    "class Autoencoder(nn.Module):\n",
    "    def __init__(self):\n",
    "        super(Autoencoder,self).__init__() # 이렇게 해줘야 부모모듈(nn.Module)의 __init__()을 사용 할 수 있다.\n",
    "        self.encoder = nn.Sequential(\n",
    "            nn.Linear(28*28, 100),    \n",
    "            nn.ReLU(),                          # activation function\n",
    "            nn.Linear(100, 30),\n",
    "            nn.ReLU()                           # activation function\n",
    "        )\n",
    "        \n",
    "        self.decoder = nn.Sequential(\n",
    "            nn.Linear(30, 100),\n",
    "            nn.ReLU(),                          # activation function\n",
    "            nn.Linear(100, 28*28),\n",
    "            nn.Sigmoid()                           # activation function\n",
    "            # AutoEncoder 는 input과 output이 동일해야한다\n",
    "            # input으로 0~1을 사용했으므로 output으로도 0~1을 출력해야 제대로 reconstruction을 해 주는것이다.\n",
    "            # mnist_train[0][0]를 보면 Sigmoid minist value가 discrete value가 아니고\n",
    "            # continuous value이므로 마지막 layer의 activation function은 sigmoid를 써야\n",
    "            # output이 0~1 사잇값으로 input과 동일하게 출력한다.\n",
    "        )\n",
    "\n",
    "    # forwaed : 순전파 (<-> backward : 역전파)\n",
    "    def forward(self, x):            # x: (batch_size, 1, 28, 28) \n",
    "        batch_size = x.size(0)\n",
    "        x = x.view(-1, 28*28)                      # reshape to 784(28*28)-dimensional vector\n",
    "        # 28*28 이미지 60000개를 batch_size인 256으로 나누다보면 자투리(나머지)가 남는데 그 것을 자동으로 채워준다.\n",
    "        encoded = self.encoder(x)                # hidden vector\n",
    "        out = self.decoder(encoded).view(batch_size,1,28,28)                   # final output. resize to input's size\n",
    "        return out, encoded\n"
   ]
  },
  {
   "cell_type": "markdown",
   "metadata": {
    "colab_type": "text",
    "id": "yLiqw-rpMAiP"
   },
   "source": [
    "### 2) Loss func & Optimizer"
   ]
  },
  {
   "cell_type": "code",
   "execution_count": 14,
   "metadata": {
    "colab": {
     "base_uri": "https://localhost:8080/",
     "height": 34
    },
    "colab_type": "code",
    "executionInfo": {
     "elapsed": 7273,
     "status": "ok",
     "timestamp": 1600624780372,
     "user": {
      "displayName": "Woncheol Shin",
      "photoUrl": "",
      "userId": "08310100070658885752"
     },
     "user_tz": -540
    },
    "id": "ZKc1UKNgMAiQ",
    "outputId": "fa03997f-7ad4-4f51-ba04-1c205251e05d"
   },
   "outputs": [
    {
     "name": "stdout",
     "output_type": "stream",
     "text": [
      "cpu\n"
     ]
    }
   ],
   "source": [
    "device = torch.device(\"cuda:0\" if torch.cuda.is_available() else \"cpu\")\n",
    "# GPU 사용이 가능하다면 \"cuda:0\"이, 아니면 \"cpu\"를 device에 저장\n",
    "print(device)"
   ]
  },
  {
   "cell_type": "code",
   "execution_count": 15,
   "metadata": {
    "colab": {},
    "colab_type": "code",
    "id": "K9o1euqGI0jm"
   },
   "outputs": [],
   "source": [
    "# 데이터 뒤에서 .to()를 사용\n",
    "model = Autoencoder().to(device)\n",
    "# 모델에서 사용하는 input Tensor들은 input = input.to(device) 을 호출해야 한다.\n",
    "loss_func = nn.MSELoss()\n",
    "# loss function으로는 MSE(Mean Squared Error) 사용\n",
    "optimizer = torch.optim.Adam(model.parameters(), lr=learning_rate)\n",
    "# optimizer로는 Adam 사용\n",
    "# '어떤 Optimizer를 써야되는지 잘 모르겠다면 Adam을 써라'라는 말도 있다 => optimizer은 나중에 따로 정리"
   ]
  },
  {
   "cell_type": "markdown",
   "metadata": {
    "colab_type": "text",
    "id": "_W2UI2F_MAiT"
   },
   "source": [
    "## 4. Train "
   ]
  },
  {
   "cell_type": "code",
   "execution_count": 16,
   "metadata": {
    "colab": {},
    "colab_type": "code",
    "id": "HSa4Z2lMcGwL"
   },
   "outputs": [],
   "source": [
    "import time\n",
    "import copy\n",
    "\n",
    "def train_model(model, dataloaders, criterion, optimizer, num_epochs=10):\n",
    "    \"\"\"\n",
    "    model: model to train\n",
    "    dataloaders: train, val, test data's loader\n",
    "    criterion: loss function\n",
    "    optimizer: optimizer to update your model\n",
    "    \"\"\"\n",
    "    since = time.time() # 시간 측정\n",
    "\n",
    "    # visualize를 위한 history를 저장할 lists\n",
    "    train_loss_history = [] \n",
    "    val_loss_history = []\n",
    "    \n",
    "    best_model_wts = copy.deepcopy(model.state_dict()) # 가장 좋은 파라미터 저장을 위한 deepcopy\n",
    "    best_val_loss = 100000000 # 굉장히 큰 수를 val_loss를 저장하고 이것보다 작으면 update(처음엔 무조건 저장)\n",
    "\n",
    "    for epoch in range(num_epochs):\n",
    "        print('Epoch {}/{}'.format(epoch, num_epochs - 1))\n",
    "        print('-' * 10)\n",
    "\n",
    "        # Each epoch has a training and validation phase\n",
    "        for phase in ['train', 'val']:\n",
    "            if phase == 'train':\n",
    "                model.train()           \n",
    "            else:\n",
    "                model.eval()          \n",
    "\n",
    "            running_loss = 0.0\n",
    "\n",
    "            # Iterate over data.\n",
    "            for inputs, labels in dataloaders[phase]:\n",
    "                inputs = inputs.to(device)                                       # transfer inputs to GPU \n",
    "\n",
    "                # zero the parameter gradients\n",
    "                optimizer.zero_grad()\n",
    "\n",
    "                # forward\n",
    "                # track history if only in train\n",
    "                with torch.set_grad_enabled(phase == 'train'):\n",
    "\n",
    "                    outputs, encoded = model(inputs)\n",
    "                    loss = criterion(outputs, inputs)                          # calculate a loss\n",
    "\n",
    "\n",
    "                    # backward + optimize 는 train phase일 때만\n",
    "                    if phase == 'train':\n",
    "                        loss.backward()                             # perform back-propagation from the loss (train일때만)\n",
    "                        optimizer.step()                             # perform gradient descent with given optimizer\n",
    "\n",
    "                # statistics\n",
    "                running_loss += loss.item() * inputs.size(0)                    \n",
    "\n",
    "            epoch_loss = running_loss / len(dataloaders[phase].dataset)\n",
    "\n",
    "            print('{} Loss: {:.4f}'.format(phase, epoch_loss))\n",
    "            \n",
    "            # deep copy the model\n",
    "            if phase == 'train':\n",
    "                train_loss_history.append(epoch_loss)\n",
    "            \n",
    "            if phase == 'val':\n",
    "                val_loss_history.append(epoch_loss)\n",
    "\n",
    "            if phase == 'val' and epoch_loss < best_val_loss:\n",
    "                best_val_loss = epoch_loss\n",
    "                best_model_wts = copy.deepcopy(model.state_dict())\n",
    "                \n",
    "            \n",
    "        print()\n",
    "\n",
    "    time_elapsed = time.time() - since\n",
    "    print('Training complete in {:.0f}m {:.0f}s'.format(time_elapsed // 60, time_elapsed % 60))\n",
    "    print('Best val Loss: {:4f}'.format(best_val_loss))\n",
    "\n",
    "    # load best model weights\n",
    "    model.load_state_dict(best_model_wts)\n",
    "    return model, train_loss_history, val_loss_history"
   ]
  },
  {
   "cell_type": "code",
   "execution_count": 17,
   "metadata": {
    "colab": {
     "base_uri": "https://localhost:8080/",
     "height": 901
    },
    "colab_type": "code",
    "executionInfo": {
     "elapsed": 57618,
     "status": "ok",
     "timestamp": 1600624830739,
     "user": {
      "displayName": "Woncheol Shin",
      "photoUrl": "",
      "userId": "08310100070658885752"
     },
     "user_tz": -540
    },
    "id": "XTgWxvbai42S",
    "outputId": "ec2e8ac3-44d7-494c-cbff-9f7dc873e92c"
   },
   "outputs": [
    {
     "name": "stdout",
     "output_type": "stream",
     "text": [
      "Epoch 0/9\n",
      "----------\n",
      "train Loss: 0.1196\n",
      "val Loss: 0.0700\n",
      "\n",
      "Epoch 1/9\n",
      "----------\n",
      "train Loss: 0.0654\n",
      "val Loss: 0.0589\n",
      "\n",
      "Epoch 2/9\n",
      "----------\n",
      "train Loss: 0.0542\n",
      "val Loss: 0.0483\n",
      "\n",
      "Epoch 3/9\n",
      "----------\n",
      "train Loss: 0.0443\n",
      "val Loss: 0.0412\n",
      "\n",
      "Epoch 4/9\n",
      "----------\n",
      "train Loss: 0.0393\n",
      "val Loss: 0.0374\n",
      "\n",
      "Epoch 5/9\n",
      "----------\n",
      "train Loss: 0.0360\n",
      "val Loss: 0.0344\n",
      "\n",
      "Epoch 6/9\n",
      "----------\n",
      "train Loss: 0.0330\n",
      "val Loss: 0.0316\n",
      "\n",
      "Epoch 7/9\n",
      "----------\n",
      "train Loss: 0.0304\n",
      "val Loss: 0.0293\n",
      "\n",
      "Epoch 8/9\n",
      "----------\n",
      "train Loss: 0.0285\n",
      "val Loss: 0.0277\n",
      "\n",
      "Epoch 9/9\n",
      "----------\n",
      "train Loss: 0.0270\n",
      "val Loss: 0.0262\n",
      "\n",
      "Training complete in 0m 43s\n",
      "Best val Loss: 0.026246\n"
     ]
    }
   ],
   "source": [
    "best_model, train_loss_history, val_loss_history = train_model(model, dataloaders, loss_func, optimizer, num_epochs=num_epochs)\n",
    "# train Loss는 모델이 정말 크면 0으로 만들 수 있다\n",
    "# => validation Loss는 그렇지 않다 ,, 따라서 validation Loss가 더이상 떨어지지 않을때! 까지 학습시켜야한다.\n",
    "# => validation data set이 필요한 이유"
   ]
  },
  {
   "cell_type": "code",
   "execution_count": 18,
   "metadata": {
    "colab": {
     "base_uri": "https://localhost:8080/",
     "height": 279
    },
    "colab_type": "code",
    "executionInfo": {
     "elapsed": 57611,
     "status": "ok",
     "timestamp": 1600624830740,
     "user": {
      "displayName": "Woncheol Shin",
      "photoUrl": "",
      "userId": "08310100070658885752"
     },
     "user_tz": -540
    },
    "id": "CSxdlpwLVjIG",
    "outputId": "7d07ea69-ac38-4aab-da33-58f06b39792a"
   },
   "outputs": [
    {
     "data": {
      "image/png": "[encoded data removed]",
      "text/plain": [
       "<Figure size 432x288 with 1 Axes>"
      ]
     },
     "metadata": {
      "needs_background": "light"
     },
     "output_type": "display_data"
    }
   ],
   "source": [
    "# Let's draw a learning curve like below.\n",
    "plt.plot(train_loss_history, label = 'train')\n",
    "plt.plot(val_loss_history, label = 'val')\n",
    "plt.xlabel('epoch')\n",
    "plt.ylabel('loss')\n",
    "plt.legend()\n",
    "plt.show()"
   ]
  },
  {
   "cell_type": "markdown",
   "metadata": {
    "colab_type": "text",
    "id": "qbYYgt8WTZzY"
   },
   "source": [
    "## 5. Check with Test Image"
   ]
  },
  {
   "cell_type": "code",
   "execution_count": 19,
   "metadata": {
    "colab": {
     "base_uri": "https://localhost:8080/",
     "height": 34
    },
    "colab_type": "code",
    "executionInfo": {
     "elapsed": 58104,
     "status": "ok",
     "timestamp": 1600624831242,
     "user": {
      "displayName": "Woncheol Shin",
      "photoUrl": "",
      "userId": "08310100070658885752"
     },
     "user_tz": -540
    },
    "id": "XCKx34u5MAic",
    "outputId": "cfa5674a-4728-44ab-cb10-e66df835f7cf"
   },
   "outputs": [
    {
     "name": "stdout",
     "output_type": "stream",
     "text": [
      "0.025818932443857193\n"
     ]
    }
   ],
   "source": [
    "# train case와 비슷하나 backpropagation이나 gradient descent step이 없다.\n",
    "with torch.no_grad():\n",
    "    running_loss = 0.0\n",
    "    for inputs, labels in dataloaders[\"test\"]:\n",
    "        inputs = inputs.to(device)\n",
    "\n",
    "        outputs, encoded = best_model(inputs)\n",
    "        test_loss = loss_func(outputs, inputs)\n",
    "        \n",
    "        running_loss += test_loss.item() * inputs.size(0)\n",
    "\n",
    "    test_loss = running_loss / len(dataloaders[\"test\"].dataset)\n",
    "    print(test_loss)"
   ]
  },
  {
   "cell_type": "markdown",
   "metadata": {},
   "source": [
    "- torch.no_grad() : gradient 연산을 하지 않는다 -> 메모리 사용을 아껴준다 + 계산속도 증가\n",
    "- model.eval() : Dropout이나 Batchnorm 등 학습할때 사용하는 개념들은 비활성화 -> 해당 모델의 모든 레이어가 eval mode에 들어가게 해준다."
   ]
  },
  {
   "cell_type": "code",
   "execution_count": 20,
   "metadata": {
    "colab": {
     "base_uri": "https://localhost:8080/",
     "height": 954
    },
    "colab_type": "code",
    "executionInfo": {
     "elapsed": 59149,
     "status": "ok",
     "timestamp": 1600624832307,
     "user": {
      "displayName": "Woncheol Shin",
      "photoUrl": "",
      "userId": "08310100070658885752"
     },
     "user_tz": -540
    },
    "id": "rvww5H9GMAie",
    "outputId": "9e70b6fc-3dfe-498e-d721-fb3784e0278f",
    "scrolled": false
   },
   "outputs": [
    {
     "name": "stdout",
     "output_type": "stream",
     "text": [
      "torch.Size([16, 28, 28])\n"
     ]
    },
    {
     "data": {
      "image/png": "[encoded data removed]",
      "text/plain": [
       "<Figure size 432x288 with 2 Axes>"
      ]
     },
     "metadata": {
      "needs_background": "light"
     },
     "output_type": "display_data"
    },
    {
     "data": {
      "image/png": "[encoded data removed]",
      "text/plain": [
       "<Figure size 432x288 with 2 Axes>"
      ]
     },
     "metadata": {
      "needs_background": "light"
     },
     "output_type": "display_data"
    },
    {
     "data": {
      "image/png": "[encoded data removed]",
      "text/plain": [
       "<Figure size 432x288 with 2 Axes>"
      ]
     },
     "metadata": {
      "needs_background": "light"
     },
     "output_type": "display_data"
    },
    {
     "data": {
      "image/png": "[encoded data removed]",
      "text/plain": [
       "<Figure size 432x288 with 2 Axes>"
      ]
     },
     "metadata": {
      "needs_background": "light"
     },
     "output_type": "display_data"
    },
    {
     "data": {
      "image/png": "[encoded data removed]",
      "text/plain": [
       "<Figure size 432x288 with 2 Axes>"
      ]
     },
     "metadata": {
      "needs_background": "light"
     },
     "output_type": "display_data"
    }
   ],
   "source": [
    "out_img = torch.squeeze(outputs.cpu().data)\n",
    "print(out_img.size())\n",
    "\n",
    "for i in range(5):\n",
    "    plt.subplot(1,2,1)\n",
    "    plt.imshow(torch.squeeze(inputs[i]).cpu().numpy(),cmap='gray')\n",
    "    plt.subplot(1,2,2)\n",
    "    plt.imshow(out_img[i].numpy(),cmap='gray')\n",
    "    plt.show()"
   ]
  },
  {
   "cell_type": "markdown",
   "metadata": {
    "colab_type": "text",
    "id": "eA994jG-X53U"
   },
   "source": [
    "## 6. Visualizing MNIST"
   ]
  },
  {
   "cell_type": "code",
   "execution_count": 21,
   "metadata": {
    "colab": {},
    "colab_type": "code",
    "id": "T_W-7sy8WT54"
   },
   "outputs": [],
   "source": [
    "np.random.seed(42)\n",
    "\n",
    "from sklearn.manifold import TSNE"
   ]
  },
  {
   "cell_type": "code",
   "execution_count": 22,
   "metadata": {
    "colab": {},
    "colab_type": "code",
    "id": "IzOQPuxchAJq"
   },
   "outputs": [],
   "source": [
    "test_dataset_array = mnist_test.data.numpy() / 255\n",
    "test_dataset_array = np.float32(test_dataset_array)\n",
    "labels = mnist_test.targets.numpy()"
   ]
  },
  {
   "cell_type": "code",
   "execution_count": 23,
   "metadata": {
    "colab": {},
    "colab_type": "code",
    "id": "aPh9EtHZjCqH"
   },
   "outputs": [],
   "source": [
    "test_dataset_array = torch.tensor(test_dataset_array)\n",
    "inputs = test_dataset_array.to(device)\n",
    "outputs, encoded = best_model(inputs) # 여기서 뽑은 encoded는 30dimension"
   ]
  },
  {
   "cell_type": "code",
   "execution_count": 24,
   "metadata": {
    "colab": {},
    "colab_type": "code",
    "id": "7cWVqp0DWUg8"
   },
   "outputs": [],
   "source": [
    "encoded = encoded.cpu().detach().numpy()\n",
    "tsne = TSNE()   \n",
    "X_test_2D = tsne.fit_transform(encoded) # 30 dimension짜리 enocded를 2 dimension으로 바꾸어야함\n",
    "X_test_2D = (X_test_2D - X_test_2D.min()) / (X_test_2D.max() - X_test_2D.min())\n",
    "# AutoEncoder로 30차원으로 줄여준 후 t-SNE로 다시 2차원으로 줄여서 시각화 하는 이유는?\n",
    "# (처음부터 t-SNE로 2차원으로 줄이던가, AutoEncoder로 2차원으로 바로 줄이면 안되나?)\n",
    "# 처음부터 t-SNE로 2차원으로 줄이면 => 굉장히 오래 걸릴 것이다.\n",
    "# AutoEncoder로 2차원으로 바로 줄이면 => 분류가 되긴 하지만 덜 잘 될 것이다.\n",
    "# => AutoEncoder의 reconstruction error minimize, t-SNE는 친밀도(Similarity)가 가까운 값끼리 묶는데 목적이 있다."
   ]
  },
  {
   "cell_type": "code",
   "execution_count": 25,
   "metadata": {
    "colab": {
     "base_uri": "https://localhost:8080/",
     "height": 248
    },
    "colab_type": "code",
    "executionInfo": {
     "elapsed": 148361,
     "status": "ok",
     "timestamp": 1600624921559,
     "user": {
      "displayName": "Woncheol Shin",
      "photoUrl": "",
      "userId": "08310100070658885752"
     },
     "user_tz": -540
    },
    "id": "XM23epMaXyua",
    "outputId": "84ccdcc0-f472-4247-d16b-92d7a50d9df5"
   },
   "outputs": [
    {
     "data": {
      "image/png": "[encoded data removed]",
      "text/plain": [
       "<Figure size 432x288 with 1 Axes>"
      ]
     },
     "metadata": {
      "needs_background": "light"
     },
     "output_type": "display_data"
    }
   ],
   "source": [
    "plt.scatter(X_test_2D[:, 0], X_test_2D[:, 1], c=labels, s=10, cmap=\"tab10\")\n",
    "plt.axis(\"off\")\n",
    "plt.show()"
   ]
  },
  {
   "cell_type": "markdown",
   "metadata": {
    "colab_type": "text",
    "id": "plqT50pDYEqK"
   },
   "source": [
    "Let's make this diagram a bit prettier:"
   ]
  },
  {
   "cell_type": "code",
   "execution_count": 26,
   "metadata": {
    "colab": {
     "base_uri": "https://localhost:8080/",
     "height": 466
    },
    "colab_type": "code",
    "executionInfo": {
     "elapsed": 149290,
     "status": "ok",
     "timestamp": 1600624922500,
     "user": {
      "displayName": "Woncheol Shin",
      "photoUrl": "",
      "userId": "08310100070658885752"
     },
     "user_tz": -540
    },
    "id": "jbkgwf3zXzI2",
    "outputId": "44a2e579-6312-43e3-b05d-b6ce1720b7f6"
   },
   "outputs": [
    {
     "data": {
      "image/png": "[encoded data removed]",
      "text/plain": [
       "<Figure size 720x576 with 1 Axes>"
      ]
     },
     "metadata": {
      "needs_background": "light"
     },
     "output_type": "display_data"
    }
   ],
   "source": [
    "# adapted from https://scikit-learn.org/stable/auto_examples/manifold/plot_lle_digits.html\n",
    "plt.figure(figsize=(10, 8))\n",
    "cmap = plt.cm.tab10\n",
    "plt.scatter(X_test_2D[:, 0], X_test_2D[:, 1], c=labels, s=10, cmap=cmap)\n",
    "image_positions = np.array([[1., 1.]])\n",
    "for index, position in enumerate(X_test_2D):\n",
    "    dist = np.sum((position - image_positions) ** 2, axis=1)\n",
    "    if np.min(dist) > 0.02: # if far enough from other images\n",
    "        image_positions = np.r_[image_positions, [position]]\n",
    "        imagebox = mpl.offsetbox.AnnotationBbox(\n",
    "            mpl.offsetbox.OffsetImage(torch.squeeze(inputs).cpu().numpy()[index], cmap=\"binary\"),\n",
    "            position, bboxprops={\"edgecolor\": cmap(labels[index]), \"lw\": 2})\n",
    "        plt.gca().add_artist(imagebox)\n",
    "plt.axis(\"off\")\n",
    "plt.show()\n"
   ]
  },
  {
   "cell_type": "code",
   "execution_count": null,
   "metadata": {
    "colab": {},
    "colab_type": "code",
    "id": "utDLVRM7Ov2l"
   },
   "outputs": [],
   "source": []
  },
  {
   "cell_type": "code",
   "execution_count": null,
   "metadata": {
    "colab": {},
    "colab_type": "code",
    "id": "qR0tnNSDb_-4"
   },
   "outputs": [],
   "source": []
  },
  {
   "cell_type": "markdown",
   "metadata": {
    "colab_type": "text",
    "id": "fN02iieYcDG2"
   },
   "source": [
    "# Denoising Autoencoder"
   ]
  },
  {
   "cell_type": "code",
   "execution_count": 27,
   "metadata": {
    "colab": {},
    "colab_type": "code",
    "id": "2rpW3c1leLf1"
   },
   "outputs": [],
   "source": [
    "model_D = Autoencoder().to(device)\n",
    "loss_func = nn.MSELoss()\n",
    "optimizer = torch.optim.Adam(model_D.parameters(), lr=learning_rate)"
   ]
  },
  {
   "cell_type": "code",
   "execution_count": 28,
   "metadata": {
    "colab": {},
    "colab_type": "code",
    "id": "9sX5Ke5wg3LK"
   },
   "outputs": [],
   "source": [
    "def train_model_D(model, dataloaders, criterion, optimizer, num_epochs=10):\n",
    "    \"\"\"\n",
    "    model: model to train\n",
    "    dataloaders: train, val, test data's loader\n",
    "    criterion: loss function\n",
    "    optimizer: optimizer to update your model\n",
    "    \"\"\"\n",
    "    since = time.time() # 시간 측정\n",
    "\n",
    "    train_loss_history = []\n",
    "    val_loss_history = []\n",
    "\n",
    "    best_model_wts = copy.deepcopy(model.state_dict()) # 가장 좋은 파라미터 저장을 위한 deepcopy\n",
    "    best_val_loss = 100000000 # 굉장히 큰 수를 val_loss를 저장하고 이것보다 작으면 update(처음엔 무조건 저장)\n",
    "\n",
    "    for epoch in range(num_epochs):\n",
    "        print('Epoch {}/{}'.format(epoch, num_epochs - 1))\n",
    "        print('-' * 10)\n",
    "\n",
    "        # Each epoch has a training and validation phase\n",
    "        for phase in ['train', 'val']:\n",
    "            if phase == 'train':\n",
    "                model.train()            # Set model to training mode\n",
    "            else:\n",
    "                model.eval()            # Set model to evaluate mode\n",
    "\n",
    "            running_loss = 0.0\n",
    "\n",
    "            # Iterate over data.\n",
    "            for inputs, labels in dataloaders[phase]:\n",
    "                noise = torch.zeros(inputs.size(0), 1, 28, 28) # DAE에서 추가된 부분\n",
    "                nn.init.normal_(noise, 0, 0.1) # DAE에서 추가된 부분\n",
    "                # noise는 1이 하얀색이므로 0에 가까운(굉장히 작은) 값을 noise로 넣어줘야\n",
    "                # 1이 7이되거나 6이 8이되는 등의 변형을 막을 수 있다.\n",
    "                noise = noise.to(device)\n",
    "                inputs = inputs.to(device)                                       # transfer inputs to GPU \n",
    "                noise_inputs = noise + inputs\n",
    "                # inputs과 noise_inputs을 구분해주는 이유는 loss를 구할때 noise를 넣지 않은 inputs이 필요하기 때문\n",
    "                \n",
    "                # zero the parameter gradients\n",
    "                optimizer.zero_grad()\n",
    "\n",
    "                # forward\n",
    "                # track history if only in train\n",
    "                with torch.set_grad_enabled(phase == 'train'):\n",
    "\n",
    "                    outputs, encoded = model(inputs)\n",
    "                    loss = criterion(outputs, inputs)                          # calculate a loss\n",
    "\n",
    "\n",
    "                    # backward + optimize only if in training phase\n",
    "                    if phase == 'train':\n",
    "                        loss.backward()                             # perform back-propagation from the loss (train일때만)\n",
    "                        optimizer.step()                             # perform gradient descent with given optimizer\n",
    "\n",
    "                # statistics\n",
    "                running_loss += loss.item() * inputs.size(0)                    \n",
    "\n",
    "            epoch_loss = running_loss / len(dataloaders[phase].dataset)\n",
    "\n",
    "            print('{} Loss: {:.4f}'.format(phase, epoch_loss))\n",
    "            \n",
    "            # deep copy the model\n",
    "            if phase == 'train':\n",
    "                train_loss_history.append(epoch_loss)\n",
    "            \n",
    "            if phase == 'val':\n",
    "                val_loss_history.append(epoch_loss)\n",
    "\n",
    "            if phase == 'val' and epoch_loss < best_val_loss:\n",
    "                best_val_loss = epoch_loss\n",
    "                best_model_wts = copy.deepcopy(model.state_dict())\n",
    "                \n",
    "            \n",
    "        print()\n",
    "\n",
    "    time_elapsed = time.time() - since\n",
    "    print('Training complete in {:.0f}m {:.0f}s'.format(time_elapsed // 60, time_elapsed % 60))\n",
    "    print('Best val Loss: {:4f}'.format(best_val_loss))\n",
    "\n",
    "    # load best model weights\n",
    "    model.load_state_dict(best_model_wts)\n",
    "    return model, train_loss_history, val_loss_history"
   ]
  },
  {
   "cell_type": "code",
   "execution_count": 29,
   "metadata": {
    "colab": {
     "base_uri": "https://localhost:8080/",
     "height": 901
    },
    "colab_type": "code",
    "executionInfo": {
     "elapsed": 193803,
     "status": "ok",
     "timestamp": 1600624967058,
     "user": {
      "displayName": "Woncheol Shin",
      "photoUrl": "",
      "userId": "08310100070658885752"
     },
     "user_tz": -540
    },
    "id": "9vFT8feZiB1M",
    "outputId": "d32d842c-ac65-46c8-acd4-f72a1a2d1bad"
   },
   "outputs": [
    {
     "name": "stdout",
     "output_type": "stream",
     "text": [
      "Epoch 0/19\n",
      "----------\n",
      "train Loss: 0.1167\n",
      "val Loss: 0.0702\n",
      "\n",
      "Epoch 1/19\n",
      "----------\n",
      "train Loss: 0.0662\n",
      "val Loss: 0.0597\n",
      "\n",
      "Epoch 2/19\n",
      "----------\n",
      "train Loss: 0.0545\n",
      "val Loss: 0.0477\n",
      "\n",
      "Epoch 3/19\n",
      "----------\n",
      "train Loss: 0.0432\n",
      "val Loss: 0.0401\n",
      "\n",
      "Epoch 4/19\n",
      "----------\n",
      "train Loss: 0.0382\n",
      "val Loss: 0.0360\n",
      "\n",
      "Epoch 5/19\n",
      "----------\n",
      "train Loss: 0.0342\n",
      "val Loss: 0.0324\n",
      "\n",
      "Epoch 6/19\n",
      "----------\n",
      "train Loss: 0.0312\n",
      "val Loss: 0.0299\n",
      "\n",
      "Epoch 7/19\n",
      "----------\n",
      "train Loss: 0.0289\n",
      "val Loss: 0.0277\n",
      "\n",
      "Epoch 8/19\n",
      "----------\n",
      "train Loss: 0.0268\n",
      "val Loss: 0.0257\n",
      "\n",
      "Epoch 9/19\n",
      "----------\n",
      "train Loss: 0.0249\n",
      "val Loss: 0.0240\n",
      "\n",
      "Epoch 10/19\n",
      "----------\n",
      "train Loss: 0.0234\n",
      "val Loss: 0.0227\n",
      "\n",
      "Epoch 11/19\n",
      "----------\n",
      "train Loss: 0.0221\n",
      "val Loss: 0.0215\n",
      "\n",
      "Epoch 12/19\n",
      "----------\n",
      "train Loss: 0.0211\n",
      "val Loss: 0.0206\n",
      "\n",
      "Epoch 13/19\n",
      "----------\n",
      "train Loss: 0.0203\n",
      "val Loss: 0.0199\n",
      "\n",
      "Epoch 14/19\n",
      "----------\n",
      "train Loss: 0.0196\n",
      "val Loss: 0.0192\n",
      "\n",
      "Epoch 15/19\n",
      "----------\n",
      "train Loss: 0.0189\n",
      "val Loss: 0.0186\n",
      "\n",
      "Epoch 16/19\n",
      "----------\n",
      "train Loss: 0.0184\n",
      "val Loss: 0.0180\n",
      "\n",
      "Epoch 17/19\n",
      "----------\n",
      "train Loss: 0.0179\n",
      "val Loss: 0.0176\n",
      "\n",
      "Epoch 18/19\n",
      "----------\n",
      "train Loss: 0.0174\n",
      "val Loss: 0.0171\n",
      "\n",
      "Epoch 19/19\n",
      "----------\n",
      "train Loss: 0.0170\n",
      "val Loss: 0.0167\n",
      "\n",
      "Training complete in 1m 32s\n",
      "Best val Loss: 0.016749\n"
     ]
    }
   ],
   "source": [
    "best_model_D, train_loss_history_D, val_loss_history_D = train_model_D(model_D, dataloaders, loss_func, optimizer, num_epochs=20)"
   ]
  },
  {
   "cell_type": "code",
   "execution_count": 30,
   "metadata": {
    "colab": {
     "base_uri": "https://localhost:8080/",
     "height": 280
    },
    "colab_type": "code",
    "executionInfo": {
     "elapsed": 193793,
     "status": "ok",
     "timestamp": 1600624967059,
     "user": {
      "displayName": "Woncheol Shin",
      "photoUrl": "",
      "userId": "08310100070658885752"
     },
     "user_tz": -540
    },
    "id": "c7ru3Gq-VQPX",
    "outputId": "1aae90cf-0aac-4c3b-b09d-e5d26fad1645"
   },
   "outputs": [
    {
     "data": {
      "image/png": "[encoded data removed]",
      "text/plain": [
       "<Figure size 432x288 with 1 Axes>"
      ]
     },
     "metadata": {
      "needs_background": "light"
     },
     "output_type": "display_data"
    }
   ],
   "source": [
    "plt.plot(train_loss_history_D, label = 'train')\n",
    "plt.plot(val_loss_history_D, label = 'val')\n",
    "plt.xlabel('epoch')\n",
    "plt.ylabel('loss')\n",
    "plt.legend()\n",
    "plt.show()"
   ]
  },
  {
   "cell_type": "code",
   "execution_count": 31,
   "metadata": {
    "colab": {
     "base_uri": "https://localhost:8080/",
     "height": 34
    },
    "colab_type": "code",
    "executionInfo": {
     "elapsed": 194260,
     "status": "ok",
     "timestamp": 1600624967537,
     "user": {
      "displayName": "Woncheol Shin",
      "photoUrl": "",
      "userId": "08310100070658885752"
     },
     "user_tz": -540
    },
    "id": "i4OOPlpveiFL",
    "outputId": "d79571ea-b273-436c-be0f-1f1ebfa85284"
   },
   "outputs": [
    {
     "name": "stdout",
     "output_type": "stream",
     "text": [
      "0.01693590996414423\n"
     ]
    }
   ],
   "source": [
    "with torch.no_grad():\n",
    "  running_loss = 0.0\n",
    "  for inputs, labels in dataloaders['test']:\n",
    "      noise = nn.init.normal_(torch.FloatTensor(inputs.size(0), 1, 28, 28), 0, 0.1)\n",
    "      noise = noise.to(device)\n",
    "      inputs = inputs.to(device)\n",
    "      noise_inputs = inputs + noise\n",
    "\n",
    "      outputs, encoded = best_model_D(noise_inputs)\n",
    "      test_loss = loss_func(outputs, inputs)\n",
    "      \n",
    "      running_loss += test_loss.item()* inputs.size(0)\n",
    "\n",
    "  test_loss = running_loss / len(dataloaders['test'].dataset)\n",
    "  print(test_loss) "
   ]
  },
  {
   "cell_type": "code",
   "execution_count": 32,
   "metadata": {
    "colab": {
     "base_uri": "https://localhost:8080/",
     "height": 954
    },
    "colab_type": "code",
    "executionInfo": {
     "elapsed": 195840,
     "status": "ok",
     "timestamp": 1600624969127,
     "user": {
      "displayName": "Woncheol Shin",
      "photoUrl": "",
      "userId": "08310100070658885752"
     },
     "user_tz": -540
    },
    "id": "e_VzzQ4Te1Gm",
    "outputId": "f52a2acd-94fb-4b8f-b1c5-a335a77a123b"
   },
   "outputs": [
    {
     "name": "stdout",
     "output_type": "stream",
     "text": [
      "torch.Size([16, 28, 28])\n"
     ]
    },
    {
     "data": {
      "image/png": "[encoded data removed]",
      "text/plain": [
       "<Figure size 432x288 with 2 Axes>"
      ]
     },
     "metadata": {
      "needs_background": "light"
     },
     "output_type": "display_data"
    },
    {
     "data": {
      "image/png": "[encoded data removed]",
      "text/plain": [
       "<Figure size 432x288 with 2 Axes>"
      ]
     },
     "metadata": {
      "needs_background": "light"
     },
     "output_type": "display_data"
    },
    {
     "data": {
      "image/png": "[encoded data removed]",
      "text/plain": [
       "<Figure size 432x288 with 2 Axes>"
      ]
     },
     "metadata": {
      "needs_background": "light"
     },
     "output_type": "display_data"
    },
    {
     "data": {
      "image/png": "[encoded data removed]",
      "text/plain": [
       "<Figure size 432x288 with 2 Axes>"
      ]
     },
     "metadata": {
      "needs_background": "light"
     },
     "output_type": "display_data"
    },
    {
     "data": {
      "image/png": "[encoded data removed]",
      "text/plain": [
       "<Figure size 432x288 with 2 Axes>"
      ]
     },
     "metadata": {
      "needs_background": "light"
     },
     "output_type": "display_data"
    }
   ],
   "source": [
    "out_img = torch.squeeze(outputs.cpu().data)\n",
    "print(out_img.size())\n",
    "\n",
    "for i in range(5):\n",
    "    plt.subplot(1,2,1)\n",
    "    plt.imshow(torch.squeeze(noise_inputs[i]).cpu().numpy(),cmap='gray')\n",
    "    plt.subplot(1,2,2)\n",
    "    plt.imshow(out_img[i].numpy(),cmap='gray')\n",
    "    plt.show()"
   ]
  },
  {
   "cell_type": "code",
   "execution_count": null,
   "metadata": {
    "colab": {},
    "colab_type": "code",
    "id": "clHU0awFiOe8"
   },
   "outputs": [],
   "source": []
  }
 ],
 "metadata": {
  "accelerator": "GPU",
  "colab": {
   "collapsed_sections": [],
   "name": "ai504_04_autoencoder_qus.ipynb",
   "provenance": [],
   "toc_visible": true
  },
  "kernelspec": {
   "display_name": "Python 3",
   "language": "python",
   "name": "python3"
  },
  "language_info": {
   "codemirror_mode": {
    "name": "ipython",
    "version": 3
   },
   "file_extension": ".py",
   "mimetype": "text/x-python",
   "name": "python",
   "nbconvert_exporter": "python",
   "pygments_lexer": "ipython3",
   "version": "3.8.5"
  },
  "widgets": {
   "application/vnd.jupyter.widget-state+json": {
    "03749c543ac94f92afa6326f8409a79b": {
     "model_module": "@jupyter-widgets/base",
     "model_name": "LayoutModel",
     "state": {
      "_model_module": "@jupyter-widgets/base",
      "_model_module_version": "1.2.0",
      "_model_name": "LayoutModel",
      "_view_count": null,
      "_view_module": "@jupyter-widgets/base",
      "_view_module_version": "1.2.0",
      "_view_name": "LayoutView",
      "align_content": null,
      "align_items": null,
      "align_self": null,
      "border": null,
      "bottom": null,
      "display": null,
      "flex": null,
      "flex_flow": null,
      "grid_area": null,
      "grid_auto_columns": null,
      "grid_auto_flow": null,
      "grid_auto_rows": null,
      "grid_column": null,
      "grid_gap": null,
      "grid_row": null,
      "grid_template_areas": null,
      "grid_template_columns": null,
      "grid_template_rows": null,
      "height": null,
      "justify_content": null,
      "justify_items": null,
      "left": null,
      "margin": null,
      "max_height": null,
      "max_width": null,
      "min_height": null,
      "min_width": null,
      "object_fit": null,
      "object_position": null,
      "order": null,
      "overflow": null,
      "overflow_x": null,
      "overflow_y": null,
      "padding": null,
      "right": null,
      "top": null,
      "visibility": null,
      "width": null
     }
    },
    "07b3a11fa2a1443db390e3e49a97ef99": {
     "model_module": "@jupyter-widgets/base",
     "model_name": "LayoutModel",
     "state": {
      "_model_module": "@jupyter-widgets/base",
      "_model_module_version": "1.2.0",
      "_model_name": "LayoutModel",
      "_view_count": null,
      "_view_module": "@jupyter-widgets/base",
      "_view_module_version": "1.2.0",
      "_view_name": "LayoutView",
      "align_content": null,
      "align_items": null,
      "align_self": null,
      "border": null,
      "bottom": null,
      "display": null,
      "flex": null,
      "flex_flow": null,
      "grid_area": null,
      "grid_auto_columns": null,
      "grid_auto_flow": null,
      "grid_auto_rows": null,
      "grid_column": null,
      "grid_gap": null,
      "grid_row": null,
      "grid_template_areas": null,
      "grid_template_columns": null,
      "grid_template_rows": null,
      "height": null,
      "justify_content": null,
      "justify_items": null,
      "left": null,
      "margin": null,
      "max_height": null,
      "max_width": null,
      "min_height": null,
      "min_width": null,
      "object_fit": null,
      "object_position": null,
      "order": null,
      "overflow": null,
      "overflow_x": null,
      "overflow_y": null,
      "padding": null,
      "right": null,
      "top": null,
      "visibility": null,
      "width": null
     }
    },
    "0c0e15e01ec54445950f065fa4af1218": {
     "model_module": "@jupyter-widgets/controls",
     "model_name": "ProgressStyleModel",
     "state": {
      "_model_module": "@jupyter-widgets/controls",
      "_model_module_version": "1.5.0",
      "_model_name": "ProgressStyleModel",
      "_view_count": null,
      "_view_module": "@jupyter-widgets/base",
      "_view_module_version": "1.2.0",
      "_view_name": "StyleView",
      "bar_color": null,
      "description_width": "initial"
     }
    },
    "0e5f9e8da5f84e329dda0a86ed5f99d1": {
     "model_module": "@jupyter-widgets/base",
     "model_name": "LayoutModel",
     "state": {
      "_model_module": "@jupyter-widgets/base",
      "_model_module_version": "1.2.0",
      "_model_name": "LayoutModel",
      "_view_count": null,
      "_view_module": "@jupyter-widgets/base",
      "_view_module_version": "1.2.0",
      "_view_name": "LayoutView",
      "align_content": null,
      "align_items": null,
      "align_self": null,
      "border": null,
      "bottom": null,
      "display": null,
      "flex": null,
      "flex_flow": null,
      "grid_area": null,
      "grid_auto_columns": null,
      "grid_auto_flow": null,
      "grid_auto_rows": null,
      "grid_column": null,
      "grid_gap": null,
      "grid_row": null,
      "grid_template_areas": null,
      "grid_template_columns": null,
      "grid_template_rows": null,
      "height": null,
      "justify_content": null,
      "justify_items": null,
      "left": null,
      "margin": null,
      "max_height": null,
      "max_width": null,
      "min_height": null,
      "min_width": null,
      "object_fit": null,
      "object_position": null,
      "order": null,
      "overflow": null,
      "overflow_x": null,
      "overflow_y": null,
      "padding": null,
      "right": null,
      "top": null,
      "visibility": null,
      "width": null
     }
    },
    "1efaaa8032a046b28f6ad523791a999d": {
     "model_module": "@jupyter-widgets/base",
     "model_name": "LayoutModel",
     "state": {
      "_model_module": "@jupyter-widgets/base",
      "_model_module_version": "1.2.0",
      "_model_name": "LayoutModel",
      "_view_count": null,
      "_view_module": "@jupyter-widgets/base",
      "_view_module_version": "1.2.0",
      "_view_name": "LayoutView",
      "align_content": null,
      "align_items": null,
      "align_self": null,
      "border": null,
      "bottom": null,
      "display": null,
      "flex": null,
      "flex_flow": null,
      "grid_area": null,
      "grid_auto_columns": null,
      "grid_auto_flow": null,
      "grid_auto_rows": null,
      "grid_column": null,
      "grid_gap": null,
      "grid_row": null,
      "grid_template_areas": null,
      "grid_template_columns": null,
      "grid_template_rows": null,
      "height": null,
      "justify_content": null,
      "justify_items": null,
      "left": null,
      "margin": null,
      "max_height": null,
      "max_width": null,
      "min_height": null,
      "min_width": null,
      "object_fit": null,
      "object_position": null,
      "order": null,
      "overflow": null,
      "overflow_x": null,
      "overflow_y": null,
      "padding": null,
      "right": null,
      "top": null,
      "visibility": null,
      "width": null
     }
    },
    "24e2a92a91894cfca8a57076f2b57388": {
     "model_module": "@jupyter-widgets/controls",
     "model_name": "DescriptionStyleModel",
     "state": {
      "_model_module": "@jupyter-widgets/controls",
      "_model_module_version": "1.5.0",
      "_model_name": "DescriptionStyleModel",
      "_view_count": null,
      "_view_module": "@jupyter-widgets/base",
      "_view_module_version": "1.2.0",
      "_view_name": "StyleView",
      "description_width": ""
     }
    },
    "25483d509e2a4a099899aa9dd7eb1c9f": {
     "model_module": "@jupyter-widgets/controls",
     "model_name": "HBoxModel",
     "state": {
      "_dom_classes": [],
      "_model_module": "@jupyter-widgets/controls",
      "_model_module_version": "1.5.0",
      "_model_name": "HBoxModel",
      "_view_count": null,
      "_view_module": "@jupyter-widgets/controls",
      "_view_module_version": "1.5.0",
      "_view_name": "HBoxView",
      "box_style": "",
      "children": [
       "IPY_MODEL_d51963b5b6c546acb14429a3f21f0776",
       "IPY_MODEL_f4af4502e55c40f2bf655ebf16647620"
      ],
      "layout": "IPY_MODEL_5a0e7d2b1c804f8ca273551f493bb8c3"
     }
    },
    "438a52eeb8f24eabb36625e7aeb44f5e": {
     "model_module": "@jupyter-widgets/controls",
     "model_name": "HBoxModel",
     "state": {
      "_dom_classes": [],
      "_model_module": "@jupyter-widgets/controls",
      "_model_module_version": "1.5.0",
      "_model_name": "HBoxModel",
      "_view_count": null,
      "_view_module": "@jupyter-widgets/controls",
      "_view_module_version": "1.5.0",
      "_view_name": "HBoxView",
      "box_style": "",
      "children": [
       "IPY_MODEL_e02e4f0da4fa4d00b10e912b31f75fbb",
       "IPY_MODEL_ec31753211dd443aa4b8498b2f9927d9"
      ],
      "layout": "IPY_MODEL_1efaaa8032a046b28f6ad523791a999d"
     }
    },
    "45124e2b77604dfbb33d4bed5103cd97": {
     "model_module": "@jupyter-widgets/controls",
     "model_name": "DescriptionStyleModel",
     "state": {
      "_model_module": "@jupyter-widgets/controls",
      "_model_module_version": "1.5.0",
      "_model_name": "DescriptionStyleModel",
      "_view_count": null,
      "_view_module": "@jupyter-widgets/base",
      "_view_module_version": "1.2.0",
      "_view_name": "StyleView",
      "description_width": ""
     }
    },
    "452a7a6e2d514ca3b6eae182e8b28006": {
     "model_module": "@jupyter-widgets/controls",
     "model_name": "ProgressStyleModel",
     "state": {
      "_model_module": "@jupyter-widgets/controls",
      "_model_module_version": "1.5.0",
      "_model_name": "ProgressStyleModel",
      "_view_count": null,
      "_view_module": "@jupyter-widgets/base",
      "_view_module_version": "1.2.0",
      "_view_name": "StyleView",
      "bar_color": null,
      "description_width": "initial"
     }
    },
    "4881aaf70ec54f2a8f950ecd548f73a8": {
     "model_module": "@jupyter-widgets/base",
     "model_name": "LayoutModel",
     "state": {
      "_model_module": "@jupyter-widgets/base",
      "_model_module_version": "1.2.0",
      "_model_name": "LayoutModel",
      "_view_count": null,
      "_view_module": "@jupyter-widgets/base",
      "_view_module_version": "1.2.0",
      "_view_name": "LayoutView",
      "align_content": null,
      "align_items": null,
      "align_self": null,
      "border": null,
      "bottom": null,
      "display": null,
      "flex": null,
      "flex_flow": null,
      "grid_area": null,
      "grid_auto_columns": null,
      "grid_auto_flow": null,
      "grid_auto_rows": null,
      "grid_column": null,
      "grid_gap": null,
      "grid_row": null,
      "grid_template_areas": null,
      "grid_template_columns": null,
      "grid_template_rows": null,
      "height": null,
      "justify_content": null,
      "justify_items": null,
      "left": null,
      "margin": null,
      "max_height": null,
      "max_width": null,
      "min_height": null,
      "min_width": null,
      "object_fit": null,
      "object_position": null,
      "order": null,
      "overflow": null,
      "overflow_x": null,
      "overflow_y": null,
      "padding": null,
      "right": null,
      "top": null,
      "visibility": null,
      "width": null
     }
    },
    "4c8497e5f2d946d492770a985b6d8c70": {
     "model_module": "@jupyter-widgets/base",
     "model_name": "LayoutModel",
     "state": {
      "_model_module": "@jupyter-widgets/base",
      "_model_module_version": "1.2.0",
      "_model_name": "LayoutModel",
      "_view_count": null,
      "_view_module": "@jupyter-widgets/base",
      "_view_module_version": "1.2.0",
      "_view_name": "LayoutView",
      "align_content": null,
      "align_items": null,
      "align_self": null,
      "border": null,
      "bottom": null,
      "display": null,
      "flex": null,
      "flex_flow": null,
      "grid_area": null,
      "grid_auto_columns": null,
      "grid_auto_flow": null,
      "grid_auto_rows": null,
      "grid_column": null,
      "grid_gap": null,
      "grid_row": null,
      "grid_template_areas": null,
      "grid_template_columns": null,
      "grid_template_rows": null,
      "height": null,
      "justify_content": null,
      "justify_items": null,
      "left": null,
      "margin": null,
      "max_height": null,
      "max_width": null,
      "min_height": null,
      "min_width": null,
      "object_fit": null,
      "object_position": null,
      "order": null,
      "overflow": null,
      "overflow_x": null,
      "overflow_y": null,
      "padding": null,
      "right": null,
      "top": null,
      "visibility": null,
      "width": null
     }
    },
    "53ce7ae1d36044a894d2c0d9878570c1": {
     "model_module": "@jupyter-widgets/base",
     "model_name": "LayoutModel",
     "state": {
      "_model_module": "@jupyter-widgets/base",
      "_model_module_version": "1.2.0",
      "_model_name": "LayoutModel",
      "_view_count": null,
      "_view_module": "@jupyter-widgets/base",
      "_view_module_version": "1.2.0",
      "_view_name": "LayoutView",
      "align_content": null,
      "align_items": null,
      "align_self": null,
      "border": null,
      "bottom": null,
      "display": null,
      "flex": null,
      "flex_flow": null,
      "grid_area": null,
      "grid_auto_columns": null,
      "grid_auto_flow": null,
      "grid_auto_rows": null,
      "grid_column": null,
      "grid_gap": null,
      "grid_row": null,
      "grid_template_areas": null,
      "grid_template_columns": null,
      "grid_template_rows": null,
      "height": null,
      "justify_content": null,
      "justify_items": null,
      "left": null,
      "margin": null,
      "max_height": null,
      "max_width": null,
      "min_height": null,
      "min_width": null,
      "object_fit": null,
      "object_position": null,
      "order": null,
      "overflow": null,
      "overflow_x": null,
      "overflow_y": null,
      "padding": null,
      "right": null,
      "top": null,
      "visibility": null,
      "width": null
     }
    },
    "5829cbf368794c76bf59fbbc001892a6": {
     "model_module": "@jupyter-widgets/controls",
     "model_name": "HTMLModel",
     "state": {
      "_dom_classes": [],
      "_model_module": "@jupyter-widgets/controls",
      "_model_module_version": "1.5.0",
      "_model_name": "HTMLModel",
      "_view_count": null,
      "_view_module": "@jupyter-widgets/controls",
      "_view_module_version": "1.5.0",
      "_view_name": "HTMLView",
      "description": "",
      "description_tooltip": null,
      "layout": "IPY_MODEL_53ce7ae1d36044a894d2c0d9878570c1",
      "placeholder": "​",
      "style": "IPY_MODEL_24e2a92a91894cfca8a57076f2b57388",
      "value": " 9920512/? [00:20&lt;00:00, 1478973.90it/s]"
     }
    },
    "5a0e7d2b1c804f8ca273551f493bb8c3": {
     "model_module": "@jupyter-widgets/base",
     "model_name": "LayoutModel",
     "state": {
      "_model_module": "@jupyter-widgets/base",
      "_model_module_version": "1.2.0",
      "_model_name": "LayoutModel",
      "_view_count": null,
      "_view_module": "@jupyter-widgets/base",
      "_view_module_version": "1.2.0",
      "_view_name": "LayoutView",
      "align_content": null,
      "align_items": null,
      "align_self": null,
      "border": null,
      "bottom": null,
      "display": null,
      "flex": null,
      "flex_flow": null,
      "grid_area": null,
      "grid_auto_columns": null,
      "grid_auto_flow": null,
      "grid_auto_rows": null,
      "grid_column": null,
      "grid_gap": null,
      "grid_row": null,
      "grid_template_areas": null,
      "grid_template_columns": null,
      "grid_template_rows": null,
      "height": null,
      "justify_content": null,
      "justify_items": null,
      "left": null,
      "margin": null,
      "max_height": null,
      "max_width": null,
      "min_height": null,
      "min_width": null,
      "object_fit": null,
      "object_position": null,
      "order": null,
      "overflow": null,
      "overflow_x": null,
      "overflow_y": null,
      "padding": null,
      "right": null,
      "top": null,
      "visibility": null,
      "width": null
     }
    },
    "5e662097643d48faba2e242ed43e6907": {
     "model_module": "@jupyter-widgets/controls",
     "model_name": "HTMLModel",
     "state": {
      "_dom_classes": [],
      "_model_module": "@jupyter-widgets/controls",
      "_model_module_version": "1.5.0",
      "_model_name": "HTMLModel",
      "_view_count": null,
      "_view_module": "@jupyter-widgets/controls",
      "_view_module_version": "1.5.0",
      "_view_name": "HTMLView",
      "description": "",
      "description_tooltip": null,
      "layout": "IPY_MODEL_03749c543ac94f92afa6326f8409a79b",
      "placeholder": "​",
      "style": "IPY_MODEL_9e16d113b12f4d1b875fc13ee145a67a",
      "value": " 8192/? [00:00&lt;00:00, 16478.87it/s]"
     }
    },
    "788dc6bad89040b4a4027e4c97be8e35": {
     "model_module": "@jupyter-widgets/controls",
     "model_name": "HBoxModel",
     "state": {
      "_dom_classes": [],
      "_model_module": "@jupyter-widgets/controls",
      "_model_module_version": "1.5.0",
      "_model_name": "HBoxModel",
      "_view_count": null,
      "_view_module": "@jupyter-widgets/controls",
      "_view_module_version": "1.5.0",
      "_view_name": "HBoxView",
      "box_style": "",
      "children": [
       "IPY_MODEL_8723625afecc4fb1a95c56dba2707710",
       "IPY_MODEL_5e662097643d48faba2e242ed43e6907"
      ],
      "layout": "IPY_MODEL_d57d7215df0040c78f59cb195a8c000f"
     }
    },
    "7f142ce7b22f4bf59b768539e8f5ef0d": {
     "model_module": "@jupyter-widgets/base",
     "model_name": "LayoutModel",
     "state": {
      "_model_module": "@jupyter-widgets/base",
      "_model_module_version": "1.2.0",
      "_model_name": "LayoutModel",
      "_view_count": null,
      "_view_module": "@jupyter-widgets/base",
      "_view_module_version": "1.2.0",
      "_view_name": "LayoutView",
      "align_content": null,
      "align_items": null,
      "align_self": null,
      "border": null,
      "bottom": null,
      "display": null,
      "flex": null,
      "flex_flow": null,
      "grid_area": null,
      "grid_auto_columns": null,
      "grid_auto_flow": null,
      "grid_auto_rows": null,
      "grid_column": null,
      "grid_gap": null,
      "grid_row": null,
      "grid_template_areas": null,
      "grid_template_columns": null,
      "grid_template_rows": null,
      "height": null,
      "justify_content": null,
      "justify_items": null,
      "left": null,
      "margin": null,
      "max_height": null,
      "max_width": null,
      "min_height": null,
      "min_width": null,
      "object_fit": null,
      "object_position": null,
      "order": null,
      "overflow": null,
      "overflow_x": null,
      "overflow_y": null,
      "padding": null,
      "right": null,
      "top": null,
      "visibility": null,
      "width": null
     }
    },
    "845d0016d9364b91b7796fe2d580d89c": {
     "model_module": "@jupyter-widgets/controls",
     "model_name": "ProgressStyleModel",
     "state": {
      "_model_module": "@jupyter-widgets/controls",
      "_model_module_version": "1.5.0",
      "_model_name": "ProgressStyleModel",
      "_view_count": null,
      "_view_module": "@jupyter-widgets/base",
      "_view_module_version": "1.2.0",
      "_view_name": "StyleView",
      "bar_color": null,
      "description_width": "initial"
     }
    },
    "84ccbf2fdabf41779a21d5f828abb4d9": {
     "model_module": "@jupyter-widgets/controls",
     "model_name": "HBoxModel",
     "state": {
      "_dom_classes": [],
      "_model_module": "@jupyter-widgets/controls",
      "_model_module_version": "1.5.0",
      "_model_name": "HBoxModel",
      "_view_count": null,
      "_view_module": "@jupyter-widgets/controls",
      "_view_module_version": "1.5.0",
      "_view_name": "HBoxView",
      "box_style": "",
      "children": [
       "IPY_MODEL_89cb2c234096474eb00c67b9e1ff1280",
       "IPY_MODEL_5829cbf368794c76bf59fbbc001892a6"
      ],
      "layout": "IPY_MODEL_0e5f9e8da5f84e329dda0a86ed5f99d1"
     }
    },
    "8723625afecc4fb1a95c56dba2707710": {
     "model_module": "@jupyter-widgets/controls",
     "model_name": "FloatProgressModel",
     "state": {
      "_dom_classes": [],
      "_model_module": "@jupyter-widgets/controls",
      "_model_module_version": "1.5.0",
      "_model_name": "FloatProgressModel",
      "_view_count": null,
      "_view_module": "@jupyter-widgets/controls",
      "_view_module_version": "1.5.0",
      "_view_name": "ProgressView",
      "bar_style": "success",
      "description": "",
      "description_tooltip": null,
      "layout": "IPY_MODEL_07b3a11fa2a1443db390e3e49a97ef99",
      "max": 1,
      "min": 0,
      "orientation": "horizontal",
      "style": "IPY_MODEL_0c0e15e01ec54445950f065fa4af1218",
      "value": 1
     }
    },
    "89cb2c234096474eb00c67b9e1ff1280": {
     "model_module": "@jupyter-widgets/controls",
     "model_name": "FloatProgressModel",
     "state": {
      "_dom_classes": [],
      "_model_module": "@jupyter-widgets/controls",
      "_model_module_version": "1.5.0",
      "_model_name": "FloatProgressModel",
      "_view_count": null,
      "_view_module": "@jupyter-widgets/controls",
      "_view_module_version": "1.5.0",
      "_view_name": "ProgressView",
      "bar_style": "info",
      "description": "",
      "description_tooltip": null,
      "layout": "IPY_MODEL_7f142ce7b22f4bf59b768539e8f5ef0d",
      "max": 1,
      "min": 0,
      "orientation": "horizontal",
      "style": "IPY_MODEL_845d0016d9364b91b7796fe2d580d89c",
      "value": 1
     }
    },
    "9e16d113b12f4d1b875fc13ee145a67a": {
     "model_module": "@jupyter-widgets/controls",
     "model_name": "DescriptionStyleModel",
     "state": {
      "_model_module": "@jupyter-widgets/controls",
      "_model_module_version": "1.5.0",
      "_model_name": "DescriptionStyleModel",
      "_view_count": null,
      "_view_module": "@jupyter-widgets/base",
      "_view_module_version": "1.2.0",
      "_view_name": "StyleView",
      "description_width": ""
     }
    },
    "c691c910818a4f24b5e2d4e3a683ea91": {
     "model_module": "@jupyter-widgets/controls",
     "model_name": "DescriptionStyleModel",
     "state": {
      "_model_module": "@jupyter-widgets/controls",
      "_model_module_version": "1.5.0",
      "_model_name": "DescriptionStyleModel",
      "_view_count": null,
      "_view_module": "@jupyter-widgets/base",
      "_view_module_version": "1.2.0",
      "_view_name": "StyleView",
      "description_width": ""
     }
    },
    "d51963b5b6c546acb14429a3f21f0776": {
     "model_module": "@jupyter-widgets/controls",
     "model_name": "FloatProgressModel",
     "state": {
      "_dom_classes": [],
      "_model_module": "@jupyter-widgets/controls",
      "_model_module_version": "1.5.0",
      "_model_name": "FloatProgressModel",
      "_view_count": null,
      "_view_module": "@jupyter-widgets/controls",
      "_view_module_version": "1.5.0",
      "_view_name": "ProgressView",
      "bar_style": "success",
      "description": "",
      "description_tooltip": null,
      "layout": "IPY_MODEL_4881aaf70ec54f2a8f950ecd548f73a8",
      "max": 1,
      "min": 0,
      "orientation": "horizontal",
      "style": "IPY_MODEL_d6d69312c63f4d4280280e29ab4d57ed",
      "value": 1
     }
    },
    "d57d7215df0040c78f59cb195a8c000f": {
     "model_module": "@jupyter-widgets/base",
     "model_name": "LayoutModel",
     "state": {
      "_model_module": "@jupyter-widgets/base",
      "_model_module_version": "1.2.0",
      "_model_name": "LayoutModel",
      "_view_count": null,
      "_view_module": "@jupyter-widgets/base",
      "_view_module_version": "1.2.0",
      "_view_name": "LayoutView",
      "align_content": null,
      "align_items": null,
      "align_self": null,
      "border": null,
      "bottom": null,
      "display": null,
      "flex": null,
      "flex_flow": null,
      "grid_area": null,
      "grid_auto_columns": null,
      "grid_auto_flow": null,
      "grid_auto_rows": null,
      "grid_column": null,
      "grid_gap": null,
      "grid_row": null,
      "grid_template_areas": null,
      "grid_template_columns": null,
      "grid_template_rows": null,
      "height": null,
      "justify_content": null,
      "justify_items": null,
      "left": null,
      "margin": null,
      "max_height": null,
      "max_width": null,
      "min_height": null,
      "min_width": null,
      "object_fit": null,
      "object_position": null,
      "order": null,
      "overflow": null,
      "overflow_x": null,
      "overflow_y": null,
      "padding": null,
      "right": null,
      "top": null,
      "visibility": null,
      "width": null
     }
    },
    "d6d69312c63f4d4280280e29ab4d57ed": {
     "model_module": "@jupyter-widgets/controls",
     "model_name": "ProgressStyleModel",
     "state": {
      "_model_module": "@jupyter-widgets/controls",
      "_model_module_version": "1.5.0",
      "_model_name": "ProgressStyleModel",
      "_view_count": null,
      "_view_module": "@jupyter-widgets/base",
      "_view_module_version": "1.2.0",
      "_view_name": "StyleView",
      "bar_color": null,
      "description_width": "initial"
     }
    },
    "e02e4f0da4fa4d00b10e912b31f75fbb": {
     "model_module": "@jupyter-widgets/controls",
     "model_name": "FloatProgressModel",
     "state": {
      "_dom_classes": [],
      "_model_module": "@jupyter-widgets/controls",
      "_model_module_version": "1.5.0",
      "_model_name": "FloatProgressModel",
      "_view_count": null,
      "_view_module": "@jupyter-widgets/controls",
      "_view_module_version": "1.5.0",
      "_view_name": "ProgressView",
      "bar_style": "info",
      "description": "",
      "description_tooltip": null,
      "layout": "IPY_MODEL_f25ba04408584d9493857cd744217bf7",
      "max": 1,
      "min": 0,
      "orientation": "horizontal",
      "style": "IPY_MODEL_452a7a6e2d514ca3b6eae182e8b28006",
      "value": 1
     }
    },
    "ec31753211dd443aa4b8498b2f9927d9": {
     "model_module": "@jupyter-widgets/controls",
     "model_name": "HTMLModel",
     "state": {
      "_dom_classes": [],
      "_model_module": "@jupyter-widgets/controls",
      "_model_module_version": "1.5.0",
      "_model_name": "HTMLModel",
      "_view_count": null,
      "_view_module": "@jupyter-widgets/controls",
      "_view_module_version": "1.5.0",
      "_view_name": "HTMLView",
      "description": "",
      "description_tooltip": null,
      "layout": "IPY_MODEL_ee05ce12e0244e7b9cc7fdac30885399",
      "placeholder": "​",
      "style": "IPY_MODEL_45124e2b77604dfbb33d4bed5103cd97",
      "value": " 1654784/? [00:18&lt;00:00, 551513.83it/s]"
     }
    },
    "ee05ce12e0244e7b9cc7fdac30885399": {
     "model_module": "@jupyter-widgets/base",
     "model_name": "LayoutModel",
     "state": {
      "_model_module": "@jupyter-widgets/base",
      "_model_module_version": "1.2.0",
      "_model_name": "LayoutModel",
      "_view_count": null,
      "_view_module": "@jupyter-widgets/base",
      "_view_module_version": "1.2.0",
      "_view_name": "LayoutView",
      "align_content": null,
      "align_items": null,
      "align_self": null,
      "border": null,
      "bottom": null,
      "display": null,
      "flex": null,
      "flex_flow": null,
      "grid_area": null,
      "grid_auto_columns": null,
      "grid_auto_flow": null,
      "grid_auto_rows": null,
      "grid_column": null,
      "grid_gap": null,
      "grid_row": null,
      "grid_template_areas": null,
      "grid_template_columns": null,
      "grid_template_rows": null,
      "height": null,
      "justify_content": null,
      "justify_items": null,
      "left": null,
      "margin": null,
      "max_height": null,
      "max_width": null,
      "min_height": null,
      "min_width": null,
      "object_fit": null,
      "object_position": null,
      "order": null,
      "overflow": null,
      "overflow_x": null,
      "overflow_y": null,
      "padding": null,
      "right": null,
      "top": null,
      "visibility": null,
      "width": null
     }
    },
    "f25ba04408584d9493857cd744217bf7": {
     "model_module": "@jupyter-widgets/base",
     "model_name": "LayoutModel",
     "state": {
      "_model_module": "@jupyter-widgets/base",
      "_model_module_version": "1.2.0",
      "_model_name": "LayoutModel",
      "_view_count": null,
      "_view_module": "@jupyter-widgets/base",
      "_view_module_version": "1.2.0",
      "_view_name": "LayoutView",
      "align_content": null,
      "align_items": null,
      "align_self": null,
      "border": null,
      "bottom": null,
      "display": null,
      "flex": null,
      "flex_flow": null,
      "grid_area": null,
      "grid_auto_columns": null,
      "grid_auto_flow": null,
      "grid_auto_rows": null,
      "grid_column": null,
      "grid_gap": null,
      "grid_row": null,
      "grid_template_areas": null,
      "grid_template_columns": null,
      "grid_template_rows": null,
      "height": null,
      "justify_content": null,
      "justify_items": null,
      "left": null,
      "margin": null,
      "max_height": null,
      "max_width": null,
      "min_height": null,
      "min_width": null,
      "object_fit": null,
      "object_position": null,
      "order": null,
      "overflow": null,
      "overflow_x": null,
      "overflow_y": null,
      "padding": null,
      "right": null,
      "top": null,
      "visibility": null,
      "width": null
     }
    },
    "f4af4502e55c40f2bf655ebf16647620": {
     "model_module": "@jupyter-widgets/controls",
     "model_name": "HTMLModel",
     "state": {
      "_dom_classes": [],
      "_model_module": "@jupyter-widgets/controls",
      "_model_module_version": "1.5.0",
      "_model_name": "HTMLModel",
      "_view_count": null,
      "_view_module": "@jupyter-widgets/controls",
      "_view_module_version": "1.5.0",
      "_view_name": "HTMLView",
      "description": "",
      "description_tooltip": null,
      "layout": "IPY_MODEL_4c8497e5f2d946d492770a985b6d8c70",
      "placeholder": "​",
      "style": "IPY_MODEL_c691c910818a4f24b5e2d4e3a683ea91",
      "value": " 32768/? [00:00&lt;00:00, 120417.15it/s]"
     }
    }
   }
  }
 },
 "nbformat": 4,
 "nbformat_minor": 1
}
